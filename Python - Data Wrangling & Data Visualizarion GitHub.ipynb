{
 "cells": [
  {
   "cell_type": "markdown",
   "id": "d6be40df",
   "metadata": {},
   "source": [
    "# Load the Data, Convert '-' to nan"
   ]
  },
  {
   "cell_type": "code",
   "execution_count": 1,
   "id": "1357dd50",
   "metadata": {},
   "outputs": [],
   "source": [
    "import pandas as pd\n",
    "import numpy as np\n",
    "import seaborn as sns\n",
    "import matplotlib.pyplot as plt"
   ]
  },
  {
   "cell_type": "code",
   "execution_count": 2,
   "id": "0a61bfac",
   "metadata": {},
   "outputs": [],
   "source": [
    "pd.set_option('display.max_columns', None)"
   ]
  },
  {
   "cell_type": "code",
   "execution_count": 3,
   "id": "4c688f14",
   "metadata": {},
   "outputs": [
    {
     "data": {
      "text/plain": [
       "(84548, 22)"
      ]
     },
     "execution_count": 3,
     "metadata": {},
     "output_type": "execute_result"
    }
   ],
   "source": [
    "df = pd.read_csv('nyc-rolling-sales.csv',na_values=[' -  '])\n",
    "df.shape"
   ]
  },
  {
   "cell_type": "code",
   "execution_count": 4,
   "id": "87b5e291",
   "metadata": {},
   "outputs": [
    {
     "data": {
      "text/plain": [
       "Unnamed: 0                          int64\n",
       "BOROUGH                             int64\n",
       "NEIGHBORHOOD                       object\n",
       "BUILDING CLASS CATEGORY            object\n",
       "TAX CLASS AT PRESENT               object\n",
       "BLOCK                               int64\n",
       "LOT                                 int64\n",
       "EASE-MENT                          object\n",
       "BUILDING CLASS AT PRESENT          object\n",
       "ADDRESS                            object\n",
       "APARTMENT NUMBER                   object\n",
       "ZIP CODE                            int64\n",
       "RESIDENTIAL UNITS                   int64\n",
       "COMMERCIAL UNITS                    int64\n",
       "TOTAL UNITS                         int64\n",
       "LAND SQUARE FEET                  float64\n",
       "GROSS SQUARE FEET                 float64\n",
       "YEAR BUILT                          int64\n",
       "TAX CLASS AT TIME OF SALE           int64\n",
       "BUILDING CLASS AT TIME OF SALE     object\n",
       "SALE PRICE                        float64\n",
       "SALE DATE                          object\n",
       "dtype: object"
      ]
     },
     "execution_count": 4,
     "metadata": {},
     "output_type": "execute_result"
    }
   ],
   "source": [
    "df.dtypes"
   ]
  },
  {
   "cell_type": "markdown",
   "id": "fc27a979",
   "metadata": {},
   "source": [
    "# Data Types"
   ]
  },
  {
   "cell_type": "markdown",
   "id": "8aee1e12",
   "metadata": {},
   "source": [
    "## Drop Column"
   ]
  },
  {
   "cell_type": "code",
   "execution_count": 5,
   "id": "61e223e5",
   "metadata": {},
   "outputs": [
    {
     "data": {
      "text/plain": [
       "array([' '], dtype=object)"
      ]
     },
     "execution_count": 5,
     "metadata": {},
     "output_type": "execute_result"
    }
   ],
   "source": [
    "## empty\n",
    "df['EASE-MENT'].unique()"
   ]
  },
  {
   "cell_type": "code",
   "execution_count": 6,
   "id": "024db73d",
   "metadata": {},
   "outputs": [],
   "source": [
    "df.drop('EASE-MENT', axis=1, inplace=True)"
   ]
  },
  {
   "cell_type": "code",
   "execution_count": 7,
   "id": "7d38c522",
   "metadata": {},
   "outputs": [],
   "source": [
    "df.drop('Unnamed: 0', axis=1, inplace=True)"
   ]
  },
  {
   "cell_type": "markdown",
   "id": "7e0155c5",
   "metadata": {},
   "source": [
    "## Change Column type"
   ]
  },
  {
   "cell_type": "code",
   "execution_count": 8,
   "id": "aa962621",
   "metadata": {},
   "outputs": [
    {
     "name": "stdout",
     "output_type": "stream",
     "text": [
      "<class 'pandas.core.frame.DataFrame'>\n",
      "RangeIndex: 84548 entries, 0 to 84547\n",
      "Data columns (total 20 columns):\n",
      " #   Column                          Non-Null Count  Dtype  \n",
      "---  ------                          --------------  -----  \n",
      " 0   BOROUGH                         84548 non-null  int64  \n",
      " 1   NEIGHBORHOOD                    84548 non-null  object \n",
      " 2   BUILDING CLASS CATEGORY         84548 non-null  object \n",
      " 3   TAX CLASS AT PRESENT            84548 non-null  object \n",
      " 4   BLOCK                           84548 non-null  int64  \n",
      " 5   LOT                             84548 non-null  int64  \n",
      " 6   BUILDING CLASS AT PRESENT       84548 non-null  object \n",
      " 7   ADDRESS                         84548 non-null  object \n",
      " 8   APARTMENT NUMBER                84548 non-null  object \n",
      " 9   ZIP CODE                        84548 non-null  int64  \n",
      " 10  RESIDENTIAL UNITS               84548 non-null  int64  \n",
      " 11  COMMERCIAL UNITS                84548 non-null  int64  \n",
      " 12  TOTAL UNITS                     84548 non-null  int64  \n",
      " 13  LAND SQUARE FEET                58296 non-null  float64\n",
      " 14  GROSS SQUARE FEET               56936 non-null  float64\n",
      " 15  YEAR BUILT                      84548 non-null  int64  \n",
      " 16  TAX CLASS AT TIME OF SALE       84548 non-null  int64  \n",
      " 17  BUILDING CLASS AT TIME OF SALE  84548 non-null  object \n",
      " 18  SALE PRICE                      69987 non-null  float64\n",
      " 19  SALE DATE                       84548 non-null  object \n",
      "dtypes: float64(3), int64(9), object(8)\n",
      "memory usage: 12.9+ MB\n"
     ]
    }
   ],
   "source": [
    "df.info()"
   ]
  },
  {
   "cell_type": "code",
   "execution_count": 9,
   "id": "8bf0ba15",
   "metadata": {},
   "outputs": [],
   "source": [
    "obj_cats = ['NEIGHBORHOOD', 'BUILDING CLASS CATEGORY', 'TAX CLASS AT PRESENT',\n",
    "        'BUILDING CLASS AT PRESENT', 'ADDRESS', 'APARTMENT NUMBER',\n",
    "       'BUILDING CLASS AT TIME OF SALE']\n",
    "for colname in obj_cats:\n",
    "    df[colname] = df[colname].astype('category')"
   ]
  },
  {
   "cell_type": "code",
   "execution_count": 10,
   "id": "d7214373",
   "metadata": {},
   "outputs": [],
   "source": [
    "num_cats = ['BOROUGH', 'BLOCK', 'LOT', 'ZIP CODE',\n",
    "            'TAX CLASS AT TIME OF SALE']\n",
    "for colname in num_cats:\n",
    "    df[colname] = df[colname].astype('category')  "
   ]
  },
  {
   "cell_type": "code",
   "execution_count": 11,
   "id": "6dca77d3",
   "metadata": {},
   "outputs": [],
   "source": [
    "numer = ['LAND SQUARE FEET','GROSS SQUARE FEET', 'SALE PRICE']\n",
    "for col in numer: # coerce for missing values\n",
    "    df[col] = pd.to_numeric(df[col], errors='coerce')"
   ]
  },
  {
   "cell_type": "code",
   "execution_count": 12,
   "id": "c14af6a3",
   "metadata": {},
   "outputs": [
    {
     "name": "stdout",
     "output_type": "stream",
     "text": [
      "<class 'pandas.core.frame.DataFrame'>\n",
      "RangeIndex: 84548 entries, 0 to 84547\n",
      "Data columns (total 20 columns):\n",
      " #   Column                          Non-Null Count  Dtype   \n",
      "---  ------                          --------------  -----   \n",
      " 0   BOROUGH                         84548 non-null  category\n",
      " 1   NEIGHBORHOOD                    84548 non-null  category\n",
      " 2   BUILDING CLASS CATEGORY         84548 non-null  category\n",
      " 3   TAX CLASS AT PRESENT            84548 non-null  category\n",
      " 4   BLOCK                           84548 non-null  category\n",
      " 5   LOT                             84548 non-null  category\n",
      " 6   BUILDING CLASS AT PRESENT       84548 non-null  category\n",
      " 7   ADDRESS                         84548 non-null  category\n",
      " 8   APARTMENT NUMBER                84548 non-null  category\n",
      " 9   ZIP CODE                        84548 non-null  category\n",
      " 10  RESIDENTIAL UNITS               84548 non-null  int64   \n",
      " 11  COMMERCIAL UNITS                84548 non-null  int64   \n",
      " 12  TOTAL UNITS                     84548 non-null  int64   \n",
      " 13  LAND SQUARE FEET                58296 non-null  float64 \n",
      " 14  GROSS SQUARE FEET               56936 non-null  float64 \n",
      " 15  YEAR BUILT                      84548 non-null  int64   \n",
      " 16  TAX CLASS AT TIME OF SALE       84548 non-null  category\n",
      " 17  BUILDING CLASS AT TIME OF SALE  84548 non-null  category\n",
      " 18  SALE PRICE                      69987 non-null  float64 \n",
      " 19  SALE DATE                       84548 non-null  object  \n",
      "dtypes: category(12), float64(3), int64(4), object(1)\n",
      "memory usage: 10.1+ MB\n"
     ]
    }
   ],
   "source": [
    "df.info()"
   ]
  },
  {
   "cell_type": "code",
   "execution_count": 13,
   "id": "bb908a47",
   "metadata": {},
   "outputs": [
    {
     "data": {
      "text/plain": [
       "dtype('<M8[ns]')"
      ]
     },
     "execution_count": 13,
     "metadata": {},
     "output_type": "execute_result"
    }
   ],
   "source": [
    "# change dtype to date\n",
    "df['SALE DATE']=pd.to_datetime(df['SALE DATE'])\n",
    "df['SALE DATE'].dtype"
   ]
  },
  {
   "cell_type": "markdown",
   "id": "e728d3dc",
   "metadata": {},
   "source": [
    "# Augment Data with Additional Columns"
   ]
  },
  {
   "cell_type": "markdown",
   "id": "cab6109b",
   "metadata": {},
   "source": [
    "## Add building age column"
   ]
  },
  {
   "cell_type": "code",
   "execution_count": 14,
   "id": "1718462e",
   "metadata": {},
   "outputs": [],
   "source": [
    "#df = df.drop('BUILDING AGE', 1)\n",
    "#Mathematical Operation to create New Column\n",
    "df['BUILDING AGE'] = 2022 - df['YEAR BUILT'].astype(int, errors='ignore')"
   ]
  },
  {
   "cell_type": "markdown",
   "id": "e761f5cd",
   "metadata": {},
   "source": [
    "## Add building category column"
   ]
  },
  {
   "cell_type": "code",
   "execution_count": 15,
   "id": "831446b4",
   "metadata": {},
   "outputs": [],
   "source": [
    "df['BUILDING CATEGORY'] = np.where(df['BUILDING AGE']>=76,'Pre-War','Post-War')\n",
    "df['BUILDING CATEGORY'] = df['BUILDING CATEGORY'].astype('category')"
   ]
  },
  {
   "cell_type": "markdown",
   "id": "52db3746",
   "metadata": {},
   "source": [
    "# Data Cleaning"
   ]
  },
  {
   "cell_type": "markdown",
   "id": "2f2d9fc5",
   "metadata": {},
   "source": [
    "## Change numerical indicators to str categories"
   ]
  },
  {
   "cell_type": "code",
   "execution_count": 16,
   "id": "2b9a2424",
   "metadata": {},
   "outputs": [],
   "source": [
    "df['BOROUGH']= df['BOROUGH'].astype(str)\n",
    "df['BOROUGH']= df['BOROUGH'].replace({'1':\"Manhattan\", '2': 'Bronx', '3':'Brooklyn', '4':'Queens', '5':'Staten Island'})"
   ]
  },
  {
   "cell_type": "code",
   "execution_count": 17,
   "id": "5f3223b7",
   "metadata": {},
   "outputs": [
    {
     "data": {
      "text/html": [
       "<div>\n",
       "<style scoped>\n",
       "    .dataframe tbody tr th:only-of-type {\n",
       "        vertical-align: middle;\n",
       "    }\n",
       "\n",
       "    .dataframe tbody tr th {\n",
       "        vertical-align: top;\n",
       "    }\n",
       "\n",
       "    .dataframe thead th {\n",
       "        text-align: right;\n",
       "    }\n",
       "</style>\n",
       "<table border=\"1\" class=\"dataframe\">\n",
       "  <thead>\n",
       "    <tr style=\"text-align: right;\">\n",
       "      <th></th>\n",
       "      <th>BOROUGH</th>\n",
       "      <th>NEIGHBORHOOD</th>\n",
       "      <th>BUILDING CLASS CATEGORY</th>\n",
       "      <th>TAX CLASS AT PRESENT</th>\n",
       "      <th>BLOCK</th>\n",
       "      <th>LOT</th>\n",
       "      <th>BUILDING CLASS AT PRESENT</th>\n",
       "      <th>ADDRESS</th>\n",
       "      <th>APARTMENT NUMBER</th>\n",
       "      <th>ZIP CODE</th>\n",
       "      <th>RESIDENTIAL UNITS</th>\n",
       "      <th>COMMERCIAL UNITS</th>\n",
       "      <th>TOTAL UNITS</th>\n",
       "      <th>LAND SQUARE FEET</th>\n",
       "      <th>GROSS SQUARE FEET</th>\n",
       "      <th>YEAR BUILT</th>\n",
       "      <th>TAX CLASS AT TIME OF SALE</th>\n",
       "      <th>BUILDING CLASS AT TIME OF SALE</th>\n",
       "      <th>SALE PRICE</th>\n",
       "      <th>SALE DATE</th>\n",
       "      <th>BUILDING AGE</th>\n",
       "      <th>BUILDING CATEGORY</th>\n",
       "    </tr>\n",
       "  </thead>\n",
       "  <tbody>\n",
       "    <tr>\n",
       "      <th>0</th>\n",
       "      <td>Manhattan</td>\n",
       "      <td>ALPHABET CITY</td>\n",
       "      <td>07 RENTALS - WALKUP APARTMENTS</td>\n",
       "      <td>2A</td>\n",
       "      <td>392</td>\n",
       "      <td>6</td>\n",
       "      <td>C2</td>\n",
       "      <td>153 AVENUE B</td>\n",
       "      <td></td>\n",
       "      <td>10009</td>\n",
       "      <td>5</td>\n",
       "      <td>0</td>\n",
       "      <td>5</td>\n",
       "      <td>1633.0</td>\n",
       "      <td>6440.0</td>\n",
       "      <td>1900</td>\n",
       "      <td>2</td>\n",
       "      <td>C2</td>\n",
       "      <td>6625000.0</td>\n",
       "      <td>2017-07-19</td>\n",
       "      <td>122</td>\n",
       "      <td>Pre-War</td>\n",
       "    </tr>\n",
       "    <tr>\n",
       "      <th>1</th>\n",
       "      <td>Manhattan</td>\n",
       "      <td>ALPHABET CITY</td>\n",
       "      <td>07 RENTALS - WALKUP APARTMENTS</td>\n",
       "      <td>2</td>\n",
       "      <td>399</td>\n",
       "      <td>26</td>\n",
       "      <td>C7</td>\n",
       "      <td>234 EAST 4TH   STREET</td>\n",
       "      <td></td>\n",
       "      <td>10009</td>\n",
       "      <td>28</td>\n",
       "      <td>3</td>\n",
       "      <td>31</td>\n",
       "      <td>4616.0</td>\n",
       "      <td>18690.0</td>\n",
       "      <td>1900</td>\n",
       "      <td>2</td>\n",
       "      <td>C7</td>\n",
       "      <td>NaN</td>\n",
       "      <td>2016-12-14</td>\n",
       "      <td>122</td>\n",
       "      <td>Pre-War</td>\n",
       "    </tr>\n",
       "    <tr>\n",
       "      <th>2</th>\n",
       "      <td>Manhattan</td>\n",
       "      <td>ALPHABET CITY</td>\n",
       "      <td>07 RENTALS - WALKUP APARTMENTS</td>\n",
       "      <td>2</td>\n",
       "      <td>399</td>\n",
       "      <td>39</td>\n",
       "      <td>C7</td>\n",
       "      <td>197 EAST 3RD   STREET</td>\n",
       "      <td></td>\n",
       "      <td>10009</td>\n",
       "      <td>16</td>\n",
       "      <td>1</td>\n",
       "      <td>17</td>\n",
       "      <td>2212.0</td>\n",
       "      <td>7803.0</td>\n",
       "      <td>1900</td>\n",
       "      <td>2</td>\n",
       "      <td>C7</td>\n",
       "      <td>NaN</td>\n",
       "      <td>2016-12-09</td>\n",
       "      <td>122</td>\n",
       "      <td>Pre-War</td>\n",
       "    </tr>\n",
       "    <tr>\n",
       "      <th>3</th>\n",
       "      <td>Manhattan</td>\n",
       "      <td>ALPHABET CITY</td>\n",
       "      <td>07 RENTALS - WALKUP APARTMENTS</td>\n",
       "      <td>2B</td>\n",
       "      <td>402</td>\n",
       "      <td>21</td>\n",
       "      <td>C4</td>\n",
       "      <td>154 EAST 7TH STREET</td>\n",
       "      <td></td>\n",
       "      <td>10009</td>\n",
       "      <td>10</td>\n",
       "      <td>0</td>\n",
       "      <td>10</td>\n",
       "      <td>2272.0</td>\n",
       "      <td>6794.0</td>\n",
       "      <td>1913</td>\n",
       "      <td>2</td>\n",
       "      <td>C4</td>\n",
       "      <td>3936272.0</td>\n",
       "      <td>2016-09-23</td>\n",
       "      <td>109</td>\n",
       "      <td>Pre-War</td>\n",
       "    </tr>\n",
       "    <tr>\n",
       "      <th>4</th>\n",
       "      <td>Manhattan</td>\n",
       "      <td>ALPHABET CITY</td>\n",
       "      <td>07 RENTALS - WALKUP APARTMENTS</td>\n",
       "      <td>2A</td>\n",
       "      <td>404</td>\n",
       "      <td>55</td>\n",
       "      <td>C2</td>\n",
       "      <td>301 EAST 10TH   STREET</td>\n",
       "      <td></td>\n",
       "      <td>10009</td>\n",
       "      <td>6</td>\n",
       "      <td>0</td>\n",
       "      <td>6</td>\n",
       "      <td>2369.0</td>\n",
       "      <td>4615.0</td>\n",
       "      <td>1900</td>\n",
       "      <td>2</td>\n",
       "      <td>C2</td>\n",
       "      <td>8000000.0</td>\n",
       "      <td>2016-11-17</td>\n",
       "      <td>122</td>\n",
       "      <td>Pre-War</td>\n",
       "    </tr>\n",
       "  </tbody>\n",
       "</table>\n",
       "</div>"
      ],
      "text/plain": [
       "     BOROUGH   NEIGHBORHOOD                      BUILDING CLASS CATEGORY  \\\n",
       "0  Manhattan  ALPHABET CITY  07 RENTALS - WALKUP APARTMENTS                \n",
       "1  Manhattan  ALPHABET CITY  07 RENTALS - WALKUP APARTMENTS                \n",
       "2  Manhattan  ALPHABET CITY  07 RENTALS - WALKUP APARTMENTS                \n",
       "3  Manhattan  ALPHABET CITY  07 RENTALS - WALKUP APARTMENTS                \n",
       "4  Manhattan  ALPHABET CITY  07 RENTALS - WALKUP APARTMENTS                \n",
       "\n",
       "  TAX CLASS AT PRESENT BLOCK LOT BUILDING CLASS AT PRESENT  \\\n",
       "0                   2A   392   6                        C2   \n",
       "1                    2   399  26                        C7   \n",
       "2                    2   399  39                        C7   \n",
       "3                   2B   402  21                        C4   \n",
       "4                   2A   404  55                        C2   \n",
       "\n",
       "                  ADDRESS APARTMENT NUMBER ZIP CODE  RESIDENTIAL UNITS  \\\n",
       "0            153 AVENUE B                     10009                  5   \n",
       "1   234 EAST 4TH   STREET                     10009                 28   \n",
       "2   197 EAST 3RD   STREET                     10009                 16   \n",
       "3     154 EAST 7TH STREET                     10009                 10   \n",
       "4  301 EAST 10TH   STREET                     10009                  6   \n",
       "\n",
       "   COMMERCIAL UNITS  TOTAL UNITS  LAND SQUARE FEET  GROSS SQUARE FEET  \\\n",
       "0                 0            5            1633.0             6440.0   \n",
       "1                 3           31            4616.0            18690.0   \n",
       "2                 1           17            2212.0             7803.0   \n",
       "3                 0           10            2272.0             6794.0   \n",
       "4                 0            6            2369.0             4615.0   \n",
       "\n",
       "   YEAR BUILT TAX CLASS AT TIME OF SALE BUILDING CLASS AT TIME OF SALE  \\\n",
       "0        1900                         2                             C2   \n",
       "1        1900                         2                             C7   \n",
       "2        1900                         2                             C7   \n",
       "3        1913                         2                             C4   \n",
       "4        1900                         2                             C2   \n",
       "\n",
       "   SALE PRICE  SALE DATE  BUILDING AGE BUILDING CATEGORY  \n",
       "0   6625000.0 2017-07-19           122           Pre-War  \n",
       "1         NaN 2016-12-14           122           Pre-War  \n",
       "2         NaN 2016-12-09           122           Pre-War  \n",
       "3   3936272.0 2016-09-23           109           Pre-War  \n",
       "4   8000000.0 2016-11-17           122           Pre-War  "
      ]
     },
     "execution_count": 17,
     "metadata": {},
     "output_type": "execute_result"
    }
   ],
   "source": [
    "df.head(5)"
   ]
  },
  {
   "cell_type": "markdown",
   "id": "872b4bfd",
   "metadata": {},
   "source": [
    "## Identify 0 values, replace some to nan"
   ]
  },
  {
   "cell_type": "code",
   "execution_count": 18,
   "id": "cdcfae44",
   "metadata": {},
   "outputs": [],
   "source": [
    "def zero_values_table(df):\n",
    "    \"\"\"\n",
    "    Finds the number of 0 entries and its percentage with respect to each attributes\n",
    "        in the DataFrame 'df'\n",
    "    Args:\n",
    "        DataFrame\n",
    "    Returns:\n",
    "        A table contains number of nulls, of 0s, % of 0s out of all entries, and total non null values.\n",
    "    \"\"\"\n",
    "    check_table = []\n",
    "    for i in df.columns:\n",
    "        count_zeros = (df[i]==0).sum()\n",
    "        percentage = 100 * (df[i]==0).sum() / len(df[i].index)\n",
    "        count_values = df[i].notnull().sum()\n",
    "\n",
    "        if count_zeros>0:\n",
    "            check_table.append(\n",
    "            {   'column name': i,\n",
    "                'zero_val' : count_zeros,\n",
    "                'zero_val_percent': percentage,\n",
    "                'nonnull_values': count_values}\n",
    "            )\n",
    "    return pd.DataFrame(check_table)"
   ]
  },
  {
   "cell_type": "code",
   "execution_count": 19,
   "id": "82f3349e",
   "metadata": {},
   "outputs": [
    {
     "data": {
      "text/html": [
       "<div>\n",
       "<style scoped>\n",
       "    .dataframe tbody tr th:only-of-type {\n",
       "        vertical-align: middle;\n",
       "    }\n",
       "\n",
       "    .dataframe tbody tr th {\n",
       "        vertical-align: top;\n",
       "    }\n",
       "\n",
       "    .dataframe thead th {\n",
       "        text-align: right;\n",
       "    }\n",
       "</style>\n",
       "<table border=\"1\" class=\"dataframe\">\n",
       "  <thead>\n",
       "    <tr style=\"text-align: right;\">\n",
       "      <th></th>\n",
       "      <th>column name</th>\n",
       "      <th>zero_val</th>\n",
       "      <th>zero_val_percent</th>\n",
       "      <th>nonnull_values</th>\n",
       "    </tr>\n",
       "  </thead>\n",
       "  <tbody>\n",
       "    <tr>\n",
       "      <th>0</th>\n",
       "      <td>ZIP CODE</td>\n",
       "      <td>982</td>\n",
       "      <td>1.161470</td>\n",
       "      <td>84548</td>\n",
       "    </tr>\n",
       "    <tr>\n",
       "      <th>1</th>\n",
       "      <td>RESIDENTIAL UNITS</td>\n",
       "      <td>24783</td>\n",
       "      <td>29.312343</td>\n",
       "      <td>84548</td>\n",
       "    </tr>\n",
       "    <tr>\n",
       "      <th>2</th>\n",
       "      <td>COMMERCIAL UNITS</td>\n",
       "      <td>79429</td>\n",
       "      <td>93.945451</td>\n",
       "      <td>84548</td>\n",
       "    </tr>\n",
       "    <tr>\n",
       "      <th>3</th>\n",
       "      <td>TOTAL UNITS</td>\n",
       "      <td>19762</td>\n",
       "      <td>23.373705</td>\n",
       "      <td>84548</td>\n",
       "    </tr>\n",
       "    <tr>\n",
       "      <th>4</th>\n",
       "      <td>LAND SQUARE FEET</td>\n",
       "      <td>10326</td>\n",
       "      <td>12.213181</td>\n",
       "      <td>58296</td>\n",
       "    </tr>\n",
       "    <tr>\n",
       "      <th>5</th>\n",
       "      <td>GROSS SQUARE FEET</td>\n",
       "      <td>11417</td>\n",
       "      <td>13.503572</td>\n",
       "      <td>56936</td>\n",
       "    </tr>\n",
       "    <tr>\n",
       "      <th>6</th>\n",
       "      <td>YEAR BUILT</td>\n",
       "      <td>6970</td>\n",
       "      <td>8.243838</td>\n",
       "      <td>84548</td>\n",
       "    </tr>\n",
       "    <tr>\n",
       "      <th>7</th>\n",
       "      <td>SALE PRICE</td>\n",
       "      <td>10228</td>\n",
       "      <td>12.097270</td>\n",
       "      <td>69987</td>\n",
       "    </tr>\n",
       "  </tbody>\n",
       "</table>\n",
       "</div>"
      ],
      "text/plain": [
       "         column name  zero_val  zero_val_percent  nonnull_values\n",
       "0           ZIP CODE       982          1.161470           84548\n",
       "1  RESIDENTIAL UNITS     24783         29.312343           84548\n",
       "2   COMMERCIAL UNITS     79429         93.945451           84548\n",
       "3        TOTAL UNITS     19762         23.373705           84548\n",
       "4   LAND SQUARE FEET     10326         12.213181           58296\n",
       "5  GROSS SQUARE FEET     11417         13.503572           56936\n",
       "6         YEAR BUILT      6970          8.243838           84548\n",
       "7         SALE PRICE     10228         12.097270           69987"
      ]
     },
     "execution_count": 19,
     "metadata": {},
     "output_type": "execute_result"
    }
   ],
   "source": [
    "zero_values_table(df)"
   ]
  },
  {
   "cell_type": "code",
   "execution_count": 20,
   "id": "0fc28fca",
   "metadata": {},
   "outputs": [],
   "source": [
    "lst = ['ZIP CODE','TOTAL UNITS','LAND SQUARE FEET', 'GROSS SQUARE FEET', 'YEAR BUILT', 'SALE PRICE']\n",
    "for i in df[lst]:\n",
    "    df[i] = df[i].replace(0, np.nan)"
   ]
  },
  {
   "cell_type": "code",
   "execution_count": 21,
   "id": "dc61ceff",
   "metadata": {},
   "outputs": [
    {
     "data": {
      "text/html": [
       "<div>\n",
       "<style scoped>\n",
       "    .dataframe tbody tr th:only-of-type {\n",
       "        vertical-align: middle;\n",
       "    }\n",
       "\n",
       "    .dataframe tbody tr th {\n",
       "        vertical-align: top;\n",
       "    }\n",
       "\n",
       "    .dataframe thead th {\n",
       "        text-align: right;\n",
       "    }\n",
       "</style>\n",
       "<table border=\"1\" class=\"dataframe\">\n",
       "  <thead>\n",
       "    <tr style=\"text-align: right;\">\n",
       "      <th></th>\n",
       "      <th>column name</th>\n",
       "      <th>zero_val</th>\n",
       "      <th>zero_val_percent</th>\n",
       "      <th>nonnull_values</th>\n",
       "    </tr>\n",
       "  </thead>\n",
       "  <tbody>\n",
       "    <tr>\n",
       "      <th>0</th>\n",
       "      <td>RESIDENTIAL UNITS</td>\n",
       "      <td>24783</td>\n",
       "      <td>29.312343</td>\n",
       "      <td>84548</td>\n",
       "    </tr>\n",
       "    <tr>\n",
       "      <th>1</th>\n",
       "      <td>COMMERCIAL UNITS</td>\n",
       "      <td>79429</td>\n",
       "      <td>93.945451</td>\n",
       "      <td>84548</td>\n",
       "    </tr>\n",
       "  </tbody>\n",
       "</table>\n",
       "</div>"
      ],
      "text/plain": [
       "         column name  zero_val  zero_val_percent  nonnull_values\n",
       "0  RESIDENTIAL UNITS     24783         29.312343           84548\n",
       "1   COMMERCIAL UNITS     79429         93.945451           84548"
      ]
     },
     "execution_count": 21,
     "metadata": {},
     "output_type": "execute_result"
    }
   ],
   "source": [
    "zero_values_table(df)"
   ]
  },
  {
   "cell_type": "markdown",
   "id": "adf7ecb3",
   "metadata": {},
   "source": [
    "## Identify Missing Data"
   ]
  },
  {
   "cell_type": "code",
   "execution_count": 22,
   "id": "7690a75d",
   "metadata": {},
   "outputs": [],
   "source": [
    "def missing_values_table(df):\n",
    "    \"\"\"\n",
    "    Finds the number of null entries and its percentage with respect to each attributes\n",
    "        in the DataFrame 'df'\n",
    "    Args:\n",
    "        DataFrame\n",
    "    Returns:\n",
    "        A table contains number of nulls, % of nulls out of all entries, and total non null values.\n",
    "    \"\"\"\n",
    "    check_table = []\n",
    "    for i in df.columns:\n",
    "        count_nans = df[i].isnull().sum()\n",
    "        count_values = df[i].notnull().sum()\n",
    "        percentage = 100 * df[i].isnull().sum() / len(df[i].index)\n",
    "        add = count_nans+count_values\n",
    "        if count_nans>0:\n",
    "            check_table.append(\n",
    "            {   'column name': i,\n",
    "                'mis_val' : count_nans,\n",
    "                'mis_val_percent': percentage,\n",
    "                'nonnull_values': count_values,\n",
    "                'total_record': add}\n",
    "            )\n",
    "    return pd.DataFrame(check_table)"
   ]
  },
  {
   "cell_type": "code",
   "execution_count": 23,
   "id": "f885e809",
   "metadata": {},
   "outputs": [
    {
     "data": {
      "text/html": [
       "<div>\n",
       "<style scoped>\n",
       "    .dataframe tbody tr th:only-of-type {\n",
       "        vertical-align: middle;\n",
       "    }\n",
       "\n",
       "    .dataframe tbody tr th {\n",
       "        vertical-align: top;\n",
       "    }\n",
       "\n",
       "    .dataframe thead th {\n",
       "        text-align: right;\n",
       "    }\n",
       "</style>\n",
       "<table border=\"1\" class=\"dataframe\">\n",
       "  <thead>\n",
       "    <tr style=\"text-align: right;\">\n",
       "      <th></th>\n",
       "      <th>column name</th>\n",
       "      <th>mis_val</th>\n",
       "      <th>mis_val_percent</th>\n",
       "      <th>nonnull_values</th>\n",
       "      <th>total_record</th>\n",
       "    </tr>\n",
       "  </thead>\n",
       "  <tbody>\n",
       "    <tr>\n",
       "      <th>0</th>\n",
       "      <td>ZIP CODE</td>\n",
       "      <td>982</td>\n",
       "      <td>1.161470</td>\n",
       "      <td>83566</td>\n",
       "      <td>84548</td>\n",
       "    </tr>\n",
       "    <tr>\n",
       "      <th>1</th>\n",
       "      <td>TOTAL UNITS</td>\n",
       "      <td>19762</td>\n",
       "      <td>23.373705</td>\n",
       "      <td>64786</td>\n",
       "      <td>84548</td>\n",
       "    </tr>\n",
       "    <tr>\n",
       "      <th>2</th>\n",
       "      <td>LAND SQUARE FEET</td>\n",
       "      <td>36578</td>\n",
       "      <td>43.262999</td>\n",
       "      <td>47970</td>\n",
       "      <td>84548</td>\n",
       "    </tr>\n",
       "    <tr>\n",
       "      <th>3</th>\n",
       "      <td>GROSS SQUARE FEET</td>\n",
       "      <td>39029</td>\n",
       "      <td>46.161944</td>\n",
       "      <td>45519</td>\n",
       "      <td>84548</td>\n",
       "    </tr>\n",
       "    <tr>\n",
       "      <th>4</th>\n",
       "      <td>YEAR BUILT</td>\n",
       "      <td>6970</td>\n",
       "      <td>8.243838</td>\n",
       "      <td>77578</td>\n",
       "      <td>84548</td>\n",
       "    </tr>\n",
       "    <tr>\n",
       "      <th>5</th>\n",
       "      <td>SALE PRICE</td>\n",
       "      <td>24789</td>\n",
       "      <td>29.319440</td>\n",
       "      <td>59759</td>\n",
       "      <td>84548</td>\n",
       "    </tr>\n",
       "  </tbody>\n",
       "</table>\n",
       "</div>"
      ],
      "text/plain": [
       "         column name  mis_val  mis_val_percent  nonnull_values  total_record\n",
       "0           ZIP CODE      982         1.161470           83566         84548\n",
       "1        TOTAL UNITS    19762        23.373705           64786         84548\n",
       "2   LAND SQUARE FEET    36578        43.262999           47970         84548\n",
       "3  GROSS SQUARE FEET    39029        46.161944           45519         84548\n",
       "4         YEAR BUILT     6970         8.243838           77578         84548\n",
       "5         SALE PRICE    24789        29.319440           59759         84548"
      ]
     },
     "execution_count": 23,
     "metadata": {},
     "output_type": "execute_result"
    }
   ],
   "source": [
    "missing_values_table(df)"
   ]
  },
  {
   "cell_type": "markdown",
   "id": "57cbeda7",
   "metadata": {},
   "source": [
    "## Deal with Missing Data"
   ]
  },
  {
   "cell_type": "code",
   "execution_count": 24,
   "id": "e540bd21",
   "metadata": {},
   "outputs": [],
   "source": [
    "# drop whole row with NaN in 3 specified columns\n",
    "df.dropna(subset=['LAND SQUARE FEET', 'GROSS SQUARE FEET', 'YEAR BUILT', 'SALE PRICE'], inplace=True)"
   ]
  },
  {
   "cell_type": "code",
   "execution_count": 25,
   "id": "fdd920ec",
   "metadata": {},
   "outputs": [],
   "source": [
    "# reset index, because we dropped rows\n",
    "df.reset_index(drop=True, inplace=True)"
   ]
  },
  {
   "cell_type": "code",
   "execution_count": 26,
   "id": "f136ad39",
   "metadata": {},
   "outputs": [
    {
     "data": {
      "text/html": [
       "<div>\n",
       "<style scoped>\n",
       "    .dataframe tbody tr th:only-of-type {\n",
       "        vertical-align: middle;\n",
       "    }\n",
       "\n",
       "    .dataframe tbody tr th {\n",
       "        vertical-align: top;\n",
       "    }\n",
       "\n",
       "    .dataframe thead th {\n",
       "        text-align: right;\n",
       "    }\n",
       "</style>\n",
       "<table border=\"1\" class=\"dataframe\">\n",
       "  <thead>\n",
       "    <tr style=\"text-align: right;\">\n",
       "      <th></th>\n",
       "      <th>column name</th>\n",
       "      <th>mis_val</th>\n",
       "      <th>mis_val_percent</th>\n",
       "      <th>nonnull_values</th>\n",
       "      <th>total_record</th>\n",
       "    </tr>\n",
       "  </thead>\n",
       "  <tbody>\n",
       "    <tr>\n",
       "      <th>0</th>\n",
       "      <td>ZIP CODE</td>\n",
       "      <td>11</td>\n",
       "      <td>0.037518</td>\n",
       "      <td>29308</td>\n",
       "      <td>29319</td>\n",
       "    </tr>\n",
       "    <tr>\n",
       "      <th>1</th>\n",
       "      <td>TOTAL UNITS</td>\n",
       "      <td>38</td>\n",
       "      <td>0.129609</td>\n",
       "      <td>29281</td>\n",
       "      <td>29319</td>\n",
       "    </tr>\n",
       "  </tbody>\n",
       "</table>\n",
       "</div>"
      ],
      "text/plain": [
       "   column name  mis_val  mis_val_percent  nonnull_values  total_record\n",
       "0     ZIP CODE       11         0.037518           29308         29319\n",
       "1  TOTAL UNITS       38         0.129609           29281         29319"
      ]
     },
     "execution_count": 26,
     "metadata": {},
     "output_type": "execute_result"
    }
   ],
   "source": [
    "missing_values_table(df)"
   ]
  },
  {
   "cell_type": "markdown",
   "id": "cef7f058",
   "metadata": {},
   "source": [
    "## Check and drop Outliers"
   ]
  },
  {
   "cell_type": "markdown",
   "id": "d4e773d5",
   "metadata": {},
   "source": [
    "### Visualization of numerical values outliers Using Scatter Plot"
   ]
  },
  {
   "cell_type": "code",
   "execution_count": 34,
   "id": "fec8ce02",
   "metadata": {},
   "outputs": [
    {
     "data": {
      "text/plain": [
       "Index(['NEIGHBORHOOD', 'BUILDING CLASS CATEGORY', 'TAX CLASS AT PRESENT',\n",
       "       'BLOCK', 'LOT', 'BUILDING CLASS AT PRESENT', 'ADDRESS',\n",
       "       'APARTMENT NUMBER', 'ZIP CODE', 'TAX CLASS AT TIME OF SALE',\n",
       "       'BUILDING CLASS AT TIME OF SALE', 'BUILDING CATEGORY'],\n",
       "      dtype='object')"
      ]
     },
     "execution_count": 34,
     "metadata": {},
     "output_type": "execute_result"
    }
   ],
   "source": [
    "df.select_dtypes(['category']).columns"
   ]
  },
  {
   "cell_type": "code",
   "execution_count": 35,
   "id": "6a2a527e",
   "metadata": {},
   "outputs": [
    {
     "data": {
      "text/plain": [
       "<AxesSubplot:xlabel='BUILDING AGE', ylabel='SALE PRICE'>"
      ]
     },
     "execution_count": 35,
     "metadata": {},
     "output_type": "execute_result"
    },
    {
     "data": {
      "image/png": "[encoded data removed]",
      "text/plain": [
       "<Figure size 432x288 with 1 Axes>"
      ]
     },
     "metadata": {
      "needs_background": "light"
     },
     "output_type": "display_data"
    }
   ],
   "source": [
    "sns.scatterplot(data=df, x=\"BUILDING AGE\", y=\"SALE PRICE\")"
   ]
  },
  {
   "cell_type": "code",
   "execution_count": 36,
   "id": "138660b9",
   "metadata": {},
   "outputs": [
    {
     "data": {
      "text/plain": [
       "<AxesSubplot:xlabel='BUILDING AGE', ylabel='SALE PRICE'>"
      ]
     },
     "execution_count": 36,
     "metadata": {},
     "output_type": "execute_result"
    },
    {
     "data": {
      "image/png": "[encoded data removed]",
      "text/plain": [
       "<Figure size 432x288 with 1 Axes>"
      ]
     },
     "metadata": {
      "needs_background": "light"
     },
     "output_type": "display_data"
    }
   ],
   "source": [
    "sns.scatterplot(data=df[(df['SALE PRICE']<500000000) \n",
    "                        & (df['SALE PRICE'] > 1000)], x=\"BUILDING AGE\", y=\"SALE PRICE\")\n"
   ]
  },
  {
   "cell_type": "code",
   "execution_count": 37,
   "id": "6b18797b",
   "metadata": {},
   "outputs": [
    {
     "data": {
      "text/plain": [
       "<AxesSubplot:xlabel='LAND SQUARE FEET', ylabel='GROSS SQUARE FEET'>"
      ]
     },
     "execution_count": 37,
     "metadata": {},
     "output_type": "execute_result"
    },
    {
     "data": {
      "image/png": "[encoded data removed]",
      "text/plain": [
       "<Figure size 432x288 with 1 Axes>"
      ]
     },
     "metadata": {
      "needs_background": "light"
     },
     "output_type": "display_data"
    }
   ],
   "source": [
    "sns.scatterplot(data=df[(df['SALE PRICE']<500000000) \n",
    "                        & (df['SALE PRICE'] > 1000)], x=\"LAND SQUARE FEET\", y=\"GROSS SQUARE FEET\", hue = \"SALE PRICE\")"
   ]
  },
  {
   "cell_type": "code",
   "execution_count": 38,
   "id": "19686f04",
   "metadata": {},
   "outputs": [
    {
     "data": {
      "image/png": "[encoded data removed]",
      "text/plain": [
       "<Figure size 432x288 with 1 Axes>"
      ]
     },
     "metadata": {
      "needs_background": "light"
     },
     "output_type": "display_data"
    }
   ],
   "source": [
    "sns.scatterplot(data=df[(df['SALE PRICE']<500000000) & (df['SALE PRICE'] > 1000) \n",
    "                        & (df[\"LAND SQUARE FEET\"]< df[\"GROSS SQUARE FEET\"])\n",
    "                        & (df[\"GROSS SQUARE FEET\"]<2350)\n",
    "                        & (df[\"GROSS SQUARE FEET\"]>120)], x=\"LAND SQUARE FEET\", y=\"GROSS SQUARE FEET\", hue = \"SALE PRICE\")\n",
    "plt.grid()"
   ]
  },
  {
   "cell_type": "markdown",
   "id": "abe0ebf3",
   "metadata": {},
   "source": [
    "The Gross Square Feet is the total area of all the floors of a building as measured from the exterior surfaces of the outside walls of the building, including the land area and space within any building or structure on the property."
   ]
  },
  {
   "cell_type": "markdown",
   "id": "7767e462",
   "metadata": {},
   "source": [
    "Graph Interpretation: \n",
    "\n",
    "The uphill pattern moving from left to right indicates there is a positive relationship between the GROSS SQUARE FEET and LAND SQUARE FEET attributes."
   ]
  },
  {
   "cell_type": "code",
   "execution_count": 39,
   "id": "b4e05539",
   "metadata": {},
   "outputs": [
    {
     "data": {
      "text/plain": [
       "<AxesSubplot:xlabel='RESIDENTIAL UNITS', ylabel='COMMERCIAL UNITS'>"
      ]
     },
     "execution_count": 39,
     "metadata": {},
     "output_type": "execute_result"
    },
    {
     "data": {
      "image/png": "[encoded data removed]",
      "text/plain": [
       "<Figure size 432x288 with 1 Axes>"
      ]
     },
     "metadata": {
      "needs_background": "light"
     },
     "output_type": "display_data"
    }
   ],
   "source": [
    "sns.scatterplot(data=df, x=\"RESIDENTIAL UNITS\", y=\"COMMERCIAL UNITS\")"
   ]
  },
  {
   "cell_type": "code",
   "execution_count": 40,
   "id": "2bdc7a78",
   "metadata": {},
   "outputs": [
    {
     "data": {
      "text/plain": [
       "<AxesSubplot:xlabel='RESIDENTIAL UNITS', ylabel='COMMERCIAL UNITS'>"
      ]
     },
     "execution_count": 40,
     "metadata": {},
     "output_type": "execute_result"
    },
    {
     "data": {
      "image/png": "[encoded data removed]",
      "text/plain": [
       "<Figure size 432x288 with 1 Axes>"
      ]
     },
     "metadata": {
      "needs_background": "light"
     },
     "output_type": "display_data"
    }
   ],
   "source": [
    "sns.scatterplot(data=df[(df['SALE PRICE']<50000000) & (df['SALE PRICE'] > 1000) \n",
    "                        & (df[\"LAND SQUARE FEET\"]< df[\"GROSS SQUARE FEET\"])\n",
    "                        & (df[\"GROSS SQUARE FEET\"]<2350)\n",
    "                        & (df[\"GROSS SQUARE FEET\"]>120)\n",
    "                        & (df[\"COMMERCIAL UNITS\"]<500)\n",
    "                        & (df[\"RESIDENTIAL UNITS\"]<500)], x=\"RESIDENTIAL UNITS\", y=\"COMMERCIAL UNITS\")\n"
   ]
  },
  {
   "cell_type": "markdown",
   "id": "7b4392ed",
   "metadata": {},
   "source": [
    "Used filtering by defined threshold method to remove the outliers."
   ]
  },
  {
   "cell_type": "code",
   "execution_count": 41,
   "id": "5ff2bcce",
   "metadata": {},
   "outputs": [],
   "source": [
    "df_new=df[(df['SALE PRICE']<5000000) & (df['SALE PRICE'] > 1000) \n",
    "                        & (df[\"LAND SQUARE FEET\"]< df[\"GROSS SQUARE FEET\"])\n",
    "                        & (df[\"GROSS SQUARE FEET\"]<2350)\n",
    "                        & (df[\"GROSS SQUARE FEET\"]>120)\n",
    "                        & (df[\"COMMERCIAL UNITS\"]<500)\n",
    "                        & (df[\"RESIDENTIAL UNITS\"]<500)]"
   ]
  },
  {
   "cell_type": "code",
   "execution_count": 42,
   "id": "8d3e6345",
   "metadata": {},
   "outputs": [
    {
     "data": {
      "text/html": [
       "<div>\n",
       "<style scoped>\n",
       "    .dataframe tbody tr th:only-of-type {\n",
       "        vertical-align: middle;\n",
       "    }\n",
       "\n",
       "    .dataframe tbody tr th {\n",
       "        vertical-align: top;\n",
       "    }\n",
       "\n",
       "    .dataframe thead th {\n",
       "        text-align: right;\n",
       "    }\n",
       "</style>\n",
       "<table border=\"1\" class=\"dataframe\">\n",
       "  <thead>\n",
       "    <tr style=\"text-align: right;\">\n",
       "      <th></th>\n",
       "      <th>BOROUGH</th>\n",
       "      <th>NEIGHBORHOOD</th>\n",
       "      <th>BUILDING CLASS CATEGORY</th>\n",
       "      <th>TAX CLASS AT PRESENT</th>\n",
       "      <th>BLOCK</th>\n",
       "      <th>LOT</th>\n",
       "      <th>BUILDING CLASS AT PRESENT</th>\n",
       "      <th>ADDRESS</th>\n",
       "      <th>APARTMENT NUMBER</th>\n",
       "      <th>ZIP CODE</th>\n",
       "      <th>RESIDENTIAL UNITS</th>\n",
       "      <th>COMMERCIAL UNITS</th>\n",
       "      <th>TOTAL UNITS</th>\n",
       "      <th>LAND SQUARE FEET</th>\n",
       "      <th>GROSS SQUARE FEET</th>\n",
       "      <th>YEAR BUILT</th>\n",
       "      <th>TAX CLASS AT TIME OF SALE</th>\n",
       "      <th>BUILDING CLASS AT TIME OF SALE</th>\n",
       "      <th>SALE PRICE</th>\n",
       "      <th>SALE DATE</th>\n",
       "      <th>BUILDING AGE</th>\n",
       "      <th>BUILDING CATEGORY</th>\n",
       "    </tr>\n",
       "  </thead>\n",
       "  <tbody>\n",
       "    <tr>\n",
       "      <th>58</th>\n",
       "      <td>Manhattan</td>\n",
       "      <td>CHINATOWN</td>\n",
       "      <td>22 STORE BUILDINGS</td>\n",
       "      <td>4</td>\n",
       "      <td>162</td>\n",
       "      <td>47</td>\n",
       "      <td>K4</td>\n",
       "      <td>10-14 DOYERS STREET</td>\n",
       "      <td></td>\n",
       "      <td>10013</td>\n",
       "      <td>1</td>\n",
       "      <td>3</td>\n",
       "      <td>4.0</td>\n",
       "      <td>892.0</td>\n",
       "      <td>1784.0</td>\n",
       "      <td>1920.0</td>\n",
       "      <td>4</td>\n",
       "      <td>K4</td>\n",
       "      <td>3000000.0</td>\n",
       "      <td>2017-07-31</td>\n",
       "      <td>102</td>\n",
       "      <td>Pre-War</td>\n",
       "    </tr>\n",
       "    <tr>\n",
       "      <th>172</th>\n",
       "      <td>Manhattan</td>\n",
       "      <td>GREENWICH VILLAGE-WEST</td>\n",
       "      <td>01 ONE FAMILY DWELLINGS</td>\n",
       "      <td>1</td>\n",
       "      <td>585</td>\n",
       "      <td>69</td>\n",
       "      <td>A5</td>\n",
       "      <td>2 GROVE COURT</td>\n",
       "      <td></td>\n",
       "      <td>10014</td>\n",
       "      <td>1</td>\n",
       "      <td>0</td>\n",
       "      <td>1.0</td>\n",
       "      <td>384.0</td>\n",
       "      <td>1152.0</td>\n",
       "      <td>1901.0</td>\n",
       "      <td>1</td>\n",
       "      <td>A5</td>\n",
       "      <td>1375000.0</td>\n",
       "      <td>2016-10-07</td>\n",
       "      <td>121</td>\n",
       "      <td>Pre-War</td>\n",
       "    </tr>\n",
       "    <tr>\n",
       "      <th>173</th>\n",
       "      <td>Manhattan</td>\n",
       "      <td>GREENWICH VILLAGE-WEST</td>\n",
       "      <td>01 ONE FAMILY DWELLINGS</td>\n",
       "      <td>1</td>\n",
       "      <td>585</td>\n",
       "      <td>69</td>\n",
       "      <td>A5</td>\n",
       "      <td>2 GROVE COURT</td>\n",
       "      <td></td>\n",
       "      <td>10014</td>\n",
       "      <td>1</td>\n",
       "      <td>0</td>\n",
       "      <td>1.0</td>\n",
       "      <td>384.0</td>\n",
       "      <td>1152.0</td>\n",
       "      <td>1901.0</td>\n",
       "      <td>1</td>\n",
       "      <td>A5</td>\n",
       "      <td>1375000.0</td>\n",
       "      <td>2016-10-07</td>\n",
       "      <td>121</td>\n",
       "      <td>Pre-War</td>\n",
       "    </tr>\n",
       "    <tr>\n",
       "      <th>174</th>\n",
       "      <td>Manhattan</td>\n",
       "      <td>GREENWICH VILLAGE-WEST</td>\n",
       "      <td>01 ONE FAMILY DWELLINGS</td>\n",
       "      <td>1</td>\n",
       "      <td>606</td>\n",
       "      <td>28</td>\n",
       "      <td>S1</td>\n",
       "      <td>66 GREENWICH AVENUE</td>\n",
       "      <td></td>\n",
       "      <td>10011</td>\n",
       "      <td>1</td>\n",
       "      <td>1</td>\n",
       "      <td>2.0</td>\n",
       "      <td>925.0</td>\n",
       "      <td>2337.0</td>\n",
       "      <td>1910.0</td>\n",
       "      <td>1</td>\n",
       "      <td>S1</td>\n",
       "      <td>4065000.0</td>\n",
       "      <td>2017-08-03</td>\n",
       "      <td>112</td>\n",
       "      <td>Pre-War</td>\n",
       "    </tr>\n",
       "    <tr>\n",
       "      <th>234</th>\n",
       "      <td>Manhattan</td>\n",
       "      <td>HARLEM-CENTRAL</td>\n",
       "      <td>02 TWO FAMILY DWELLINGS</td>\n",
       "      <td>1</td>\n",
       "      <td>1950</td>\n",
       "      <td>7</td>\n",
       "      <td>B3</td>\n",
       "      <td>357 WEST 123 STREET</td>\n",
       "      <td></td>\n",
       "      <td>10027</td>\n",
       "      <td>2</td>\n",
       "      <td>0</td>\n",
       "      <td>2.0</td>\n",
       "      <td>1598.0</td>\n",
       "      <td>2340.0</td>\n",
       "      <td>1899.0</td>\n",
       "      <td>1</td>\n",
       "      <td>B3</td>\n",
       "      <td>2460000.0</td>\n",
       "      <td>2017-05-17</td>\n",
       "      <td>123</td>\n",
       "      <td>Pre-War</td>\n",
       "    </tr>\n",
       "  </tbody>\n",
       "</table>\n",
       "</div>"
      ],
      "text/plain": [
       "       BOROUGH            NEIGHBORHOOD  \\\n",
       "58   Manhattan               CHINATOWN   \n",
       "172  Manhattan  GREENWICH VILLAGE-WEST   \n",
       "173  Manhattan  GREENWICH VILLAGE-WEST   \n",
       "174  Manhattan  GREENWICH VILLAGE-WEST   \n",
       "234  Manhattan          HARLEM-CENTRAL   \n",
       "\n",
       "                         BUILDING CLASS CATEGORY TAX CLASS AT PRESENT BLOCK  \\\n",
       "58   22 STORE BUILDINGS                                             4   162   \n",
       "172  01 ONE FAMILY DWELLINGS                                        1   585   \n",
       "173  01 ONE FAMILY DWELLINGS                                        1   585   \n",
       "174  01 ONE FAMILY DWELLINGS                                        1   606   \n",
       "234  02 TWO FAMILY DWELLINGS                                        1  1950   \n",
       "\n",
       "    LOT BUILDING CLASS AT PRESENT              ADDRESS APARTMENT NUMBER  \\\n",
       "58   47                        K4  10-14 DOYERS STREET                    \n",
       "172  69                        A5        2 GROVE COURT                    \n",
       "173  69                        A5        2 GROVE COURT                    \n",
       "174  28                        S1  66 GREENWICH AVENUE                    \n",
       "234   7                        B3  357 WEST 123 STREET                    \n",
       "\n",
       "    ZIP CODE  RESIDENTIAL UNITS  COMMERCIAL UNITS  TOTAL UNITS  \\\n",
       "58     10013                  1                 3          4.0   \n",
       "172    10014                  1                 0          1.0   \n",
       "173    10014                  1                 0          1.0   \n",
       "174    10011                  1                 1          2.0   \n",
       "234    10027                  2                 0          2.0   \n",
       "\n",
       "     LAND SQUARE FEET  GROSS SQUARE FEET  YEAR BUILT  \\\n",
       "58              892.0             1784.0      1920.0   \n",
       "172             384.0             1152.0      1901.0   \n",
       "173             384.0             1152.0      1901.0   \n",
       "174             925.0             2337.0      1910.0   \n",
       "234            1598.0             2340.0      1899.0   \n",
       "\n",
       "    TAX CLASS AT TIME OF SALE BUILDING CLASS AT TIME OF SALE  SALE PRICE  \\\n",
       "58                          4                             K4   3000000.0   \n",
       "172                         1                             A5   1375000.0   \n",
       "173                         1                             A5   1375000.0   \n",
       "174                         1                             S1   4065000.0   \n",
       "234                         1                             B3   2460000.0   \n",
       "\n",
       "     SALE DATE  BUILDING AGE BUILDING CATEGORY  \n",
       "58  2017-07-31           102           Pre-War  \n",
       "172 2016-10-07           121           Pre-War  \n",
       "173 2016-10-07           121           Pre-War  \n",
       "174 2017-08-03           112           Pre-War  \n",
       "234 2017-05-17           123           Pre-War  "
      ]
     },
     "execution_count": 42,
     "metadata": {},
     "output_type": "execute_result"
    }
   ],
   "source": [
    "df_new.head(5)"
   ]
  },
  {
   "cell_type": "markdown",
   "id": "0cc0b704",
   "metadata": {},
   "source": [
    "### Visualization of categorical features using box plot"
   ]
  },
  {
   "cell_type": "code",
   "execution_count": 43,
   "id": "47c2621a",
   "metadata": {},
   "outputs": [
    {
     "data": {
      "text/plain": [
       "Index(['NEIGHBORHOOD', 'BUILDING CLASS CATEGORY', 'TAX CLASS AT PRESENT',\n",
       "       'BLOCK', 'LOT', 'BUILDING CLASS AT PRESENT', 'ADDRESS',\n",
       "       'APARTMENT NUMBER', 'ZIP CODE', 'TAX CLASS AT TIME OF SALE',\n",
       "       'BUILDING CLASS AT TIME OF SALE', 'BUILDING CATEGORY'],\n",
       "      dtype='object')"
      ]
     },
     "execution_count": 43,
     "metadata": {},
     "output_type": "execute_result"
    }
   ],
   "source": [
    "df_new.select_dtypes(['category']).columns"
   ]
  },
  {
   "cell_type": "code",
   "execution_count": 44,
   "id": "c0548b8a",
   "metadata": {},
   "outputs": [
    {
     "data": {
      "text/plain": [
       "['1', '2', '2A', '2B', '2C', '4']"
      ]
     },
     "execution_count": 44,
     "metadata": {},
     "output_type": "execute_result"
    }
   ],
   "source": [
    "sorted(df['TAX CLASS AT PRESENT'].unique())"
   ]
  },
  {
   "cell_type": "code",
   "execution_count": 45,
   "id": "a9113ea6",
   "metadata": {},
   "outputs": [
    {
     "data": {
      "image/png": "[encoded data removed]",
      "text/plain": [
       "<Figure size 1080x1080 with 4 Axes>"
      ]
     },
     "metadata": {},
     "output_type": "display_data"
    }
   ],
   "source": [
    "sns.set_style('darkgrid')\n",
    "fig, axes = plt.subplots(2,2, figsize = (15,15))\n",
    "\n",
    "sns.boxplot(x = 'BOROUGH', y = 'SALE PRICE', data = df_new, ax = axes[0,0])\n",
    "axes[0,0].set_xlabel('Borough')\n",
    "axes[0,0].set_ylabel('Sale Price')\n",
    "axes[0,0].set_title('Borough vs. Price')\n",
    "\n",
    "order_tax = sorted(df_new['TAX CLASS AT PRESENT'].unique())\n",
    "sns.boxplot(x = 'TAX CLASS AT PRESENT', y = 'SALE PRICE', data = df_new, ax = axes[0,1], order = order_tax)\n",
    "axes[0,1].set_xlabel('Tax Class at Present')\n",
    "axes[0,1].set_ylabel('Sale Price')\n",
    "axes[0,1].set_title('Tax Class at Present vs. Price')\n",
    "\n",
    "\n",
    "sns.boxplot(x = 'BUILDING CATEGORY', y = 'SALE PRICE', data = df_new, ax = axes[1,0])\n",
    "axes[1,0].set_xlabel('Pre or Post War')\n",
    "axes[1,0].set_ylabel('Sale Price')\n",
    "axes[1,0].set_title('Age Category vs. Price')\n",
    "\n",
    "order_class = sorted(df_new['BUILDING CLASS CATEGORY'].unique())\n",
    "sns.boxplot(x = 'BUILDING CLASS CATEGORY', y = 'SALE PRICE', data = df_new, ax = axes[1,1], order = order_class)\n",
    "axes[1,1].set_xlabel('Building Class Category')\n",
    "axes[1,1].set_ylabel('Sale Price')\n",
    "axes[1,1].set_title('Building Class Category vs. Price')\n",
    "plt.xticks(rotation=90)\n",
    "\n",
    "plt.tight_layout()\n",
    "plt.show()\n"
   ]
  },
  {
   "cell_type": "markdown",
   "id": "ed2f5197",
   "metadata": {
    "heading_collapsed": true
   },
   "source": [
    "## Drop Duplicates"
   ]
  },
  {
   "cell_type": "code",
   "execution_count": 46,
   "id": "ebe46198",
   "metadata": {
    "hidden": true
   },
   "outputs": [
    {
     "data": {
      "text/plain": [
       "2265"
      ]
     },
     "execution_count": 46,
     "metadata": {},
     "output_type": "execute_result"
    }
   ],
   "source": [
    "len(df_new)"
   ]
  },
  {
   "cell_type": "code",
   "execution_count": 47,
   "id": "c3692232",
   "metadata": {
    "hidden": true
   },
   "outputs": [
    {
     "data": {
      "text/html": [
       "<div>\n",
       "<style scoped>\n",
       "    .dataframe tbody tr th:only-of-type {\n",
       "        vertical-align: middle;\n",
       "    }\n",
       "\n",
       "    .dataframe tbody tr th {\n",
       "        vertical-align: top;\n",
       "    }\n",
       "\n",
       "    .dataframe thead th {\n",
       "        text-align: right;\n",
       "    }\n",
       "</style>\n",
       "<table border=\"1\" class=\"dataframe\">\n",
       "  <thead>\n",
       "    <tr style=\"text-align: right;\">\n",
       "      <th></th>\n",
       "      <th>BOROUGH</th>\n",
       "      <th>NEIGHBORHOOD</th>\n",
       "      <th>BUILDING CLASS CATEGORY</th>\n",
       "      <th>TAX CLASS AT PRESENT</th>\n",
       "      <th>BLOCK</th>\n",
       "      <th>LOT</th>\n",
       "      <th>BUILDING CLASS AT PRESENT</th>\n",
       "      <th>ADDRESS</th>\n",
       "      <th>APARTMENT NUMBER</th>\n",
       "      <th>ZIP CODE</th>\n",
       "      <th>RESIDENTIAL UNITS</th>\n",
       "      <th>COMMERCIAL UNITS</th>\n",
       "      <th>TOTAL UNITS</th>\n",
       "      <th>LAND SQUARE FEET</th>\n",
       "      <th>GROSS SQUARE FEET</th>\n",
       "      <th>YEAR BUILT</th>\n",
       "      <th>TAX CLASS AT TIME OF SALE</th>\n",
       "      <th>BUILDING CLASS AT TIME OF SALE</th>\n",
       "      <th>SALE PRICE</th>\n",
       "      <th>SALE DATE</th>\n",
       "      <th>BUILDING AGE</th>\n",
       "      <th>BUILDING CATEGORY</th>\n",
       "    </tr>\n",
       "  </thead>\n",
       "  <tbody>\n",
       "    <tr>\n",
       "      <th>58</th>\n",
       "      <td>Manhattan</td>\n",
       "      <td>CHINATOWN</td>\n",
       "      <td>22 STORE BUILDINGS</td>\n",
       "      <td>4</td>\n",
       "      <td>162</td>\n",
       "      <td>47</td>\n",
       "      <td>K4</td>\n",
       "      <td>10-14 DOYERS STREET</td>\n",
       "      <td></td>\n",
       "      <td>10013</td>\n",
       "      <td>1</td>\n",
       "      <td>3</td>\n",
       "      <td>4.0</td>\n",
       "      <td>892.0</td>\n",
       "      <td>1784.0</td>\n",
       "      <td>1920.0</td>\n",
       "      <td>4</td>\n",
       "      <td>K4</td>\n",
       "      <td>3000000.0</td>\n",
       "      <td>2017-07-31</td>\n",
       "      <td>102</td>\n",
       "      <td>Pre-War</td>\n",
       "    </tr>\n",
       "    <tr>\n",
       "      <th>172</th>\n",
       "      <td>Manhattan</td>\n",
       "      <td>GREENWICH VILLAGE-WEST</td>\n",
       "      <td>01 ONE FAMILY DWELLINGS</td>\n",
       "      <td>1</td>\n",
       "      <td>585</td>\n",
       "      <td>69</td>\n",
       "      <td>A5</td>\n",
       "      <td>2 GROVE COURT</td>\n",
       "      <td></td>\n",
       "      <td>10014</td>\n",
       "      <td>1</td>\n",
       "      <td>0</td>\n",
       "      <td>1.0</td>\n",
       "      <td>384.0</td>\n",
       "      <td>1152.0</td>\n",
       "      <td>1901.0</td>\n",
       "      <td>1</td>\n",
       "      <td>A5</td>\n",
       "      <td>1375000.0</td>\n",
       "      <td>2016-10-07</td>\n",
       "      <td>121</td>\n",
       "      <td>Pre-War</td>\n",
       "    </tr>\n",
       "    <tr>\n",
       "      <th>174</th>\n",
       "      <td>Manhattan</td>\n",
       "      <td>GREENWICH VILLAGE-WEST</td>\n",
       "      <td>01 ONE FAMILY DWELLINGS</td>\n",
       "      <td>1</td>\n",
       "      <td>606</td>\n",
       "      <td>28</td>\n",
       "      <td>S1</td>\n",
       "      <td>66 GREENWICH AVENUE</td>\n",
       "      <td></td>\n",
       "      <td>10011</td>\n",
       "      <td>1</td>\n",
       "      <td>1</td>\n",
       "      <td>2.0</td>\n",
       "      <td>925.0</td>\n",
       "      <td>2337.0</td>\n",
       "      <td>1910.0</td>\n",
       "      <td>1</td>\n",
       "      <td>S1</td>\n",
       "      <td>4065000.0</td>\n",
       "      <td>2017-08-03</td>\n",
       "      <td>112</td>\n",
       "      <td>Pre-War</td>\n",
       "    </tr>\n",
       "    <tr>\n",
       "      <th>234</th>\n",
       "      <td>Manhattan</td>\n",
       "      <td>HARLEM-CENTRAL</td>\n",
       "      <td>02 TWO FAMILY DWELLINGS</td>\n",
       "      <td>1</td>\n",
       "      <td>1950</td>\n",
       "      <td>7</td>\n",
       "      <td>B3</td>\n",
       "      <td>357 WEST 123 STREET</td>\n",
       "      <td></td>\n",
       "      <td>10027</td>\n",
       "      <td>2</td>\n",
       "      <td>0</td>\n",
       "      <td>2.0</td>\n",
       "      <td>1598.0</td>\n",
       "      <td>2340.0</td>\n",
       "      <td>1899.0</td>\n",
       "      <td>1</td>\n",
       "      <td>B3</td>\n",
       "      <td>2460000.0</td>\n",
       "      <td>2017-05-17</td>\n",
       "      <td>123</td>\n",
       "      <td>Pre-War</td>\n",
       "    </tr>\n",
       "    <tr>\n",
       "      <th>258</th>\n",
       "      <td>Manhattan</td>\n",
       "      <td>HARLEM-CENTRAL</td>\n",
       "      <td>07 RENTALS - WALKUP APARTMENTS</td>\n",
       "      <td>2A</td>\n",
       "      <td>1726</td>\n",
       "      <td>22</td>\n",
       "      <td>C3</td>\n",
       "      <td>35 WEST 128 STREET</td>\n",
       "      <td></td>\n",
       "      <td>10027</td>\n",
       "      <td>4</td>\n",
       "      <td>0</td>\n",
       "      <td>4.0</td>\n",
       "      <td>1249.0</td>\n",
       "      <td>2058.0</td>\n",
       "      <td>1910.0</td>\n",
       "      <td>2</td>\n",
       "      <td>C3</td>\n",
       "      <td>1431326.0</td>\n",
       "      <td>2017-08-07</td>\n",
       "      <td>112</td>\n",
       "      <td>Pre-War</td>\n",
       "    </tr>\n",
       "    <tr>\n",
       "      <th>...</th>\n",
       "      <td>...</td>\n",
       "      <td>...</td>\n",
       "      <td>...</td>\n",
       "      <td>...</td>\n",
       "      <td>...</td>\n",
       "      <td>...</td>\n",
       "      <td>...</td>\n",
       "      <td>...</td>\n",
       "      <td>...</td>\n",
       "      <td>...</td>\n",
       "      <td>...</td>\n",
       "      <td>...</td>\n",
       "      <td>...</td>\n",
       "      <td>...</td>\n",
       "      <td>...</td>\n",
       "      <td>...</td>\n",
       "      <td>...</td>\n",
       "      <td>...</td>\n",
       "      <td>...</td>\n",
       "      <td>...</td>\n",
       "      <td>...</td>\n",
       "      <td>...</td>\n",
       "    </tr>\n",
       "    <tr>\n",
       "      <th>29274</th>\n",
       "      <td>Staten Island</td>\n",
       "      <td>WOODROW</td>\n",
       "      <td>01 ONE FAMILY DWELLINGS</td>\n",
       "      <td>1</td>\n",
       "      <td>7317</td>\n",
       "      <td>226</td>\n",
       "      <td>A5</td>\n",
       "      <td>19 PEMBROOK LOOP</td>\n",
       "      <td></td>\n",
       "      <td>10309</td>\n",
       "      <td>1</td>\n",
       "      <td>0</td>\n",
       "      <td>1.0</td>\n",
       "      <td>1616.0</td>\n",
       "      <td>2137.0</td>\n",
       "      <td>1992.0</td>\n",
       "      <td>1</td>\n",
       "      <td>A5</td>\n",
       "      <td>417500.0</td>\n",
       "      <td>2016-11-15</td>\n",
       "      <td>30</td>\n",
       "      <td>Post-War</td>\n",
       "    </tr>\n",
       "    <tr>\n",
       "      <th>29275</th>\n",
       "      <td>Staten Island</td>\n",
       "      <td>WOODROW</td>\n",
       "      <td>01 ONE FAMILY DWELLINGS</td>\n",
       "      <td>1</td>\n",
       "      <td>7317</td>\n",
       "      <td>246</td>\n",
       "      <td>A5</td>\n",
       "      <td>61 PEMBROOK LOOP</td>\n",
       "      <td></td>\n",
       "      <td>10309</td>\n",
       "      <td>1</td>\n",
       "      <td>0</td>\n",
       "      <td>1.0</td>\n",
       "      <td>1428.0</td>\n",
       "      <td>2206.0</td>\n",
       "      <td>1992.0</td>\n",
       "      <td>1</td>\n",
       "      <td>A5</td>\n",
       "      <td>470000.0</td>\n",
       "      <td>2017-05-04</td>\n",
       "      <td>30</td>\n",
       "      <td>Post-War</td>\n",
       "    </tr>\n",
       "    <tr>\n",
       "      <th>29276</th>\n",
       "      <td>Staten Island</td>\n",
       "      <td>WOODROW</td>\n",
       "      <td>01 ONE FAMILY DWELLINGS</td>\n",
       "      <td>1</td>\n",
       "      <td>7317</td>\n",
       "      <td>280</td>\n",
       "      <td>A5</td>\n",
       "      <td>131 PEMBROOK LOOP</td>\n",
       "      <td></td>\n",
       "      <td>10309</td>\n",
       "      <td>1</td>\n",
       "      <td>0</td>\n",
       "      <td>1.0</td>\n",
       "      <td>1669.0</td>\n",
       "      <td>1828.0</td>\n",
       "      <td>1993.0</td>\n",
       "      <td>1</td>\n",
       "      <td>A5</td>\n",
       "      <td>425000.0</td>\n",
       "      <td>2017-07-10</td>\n",
       "      <td>29</td>\n",
       "      <td>Post-War</td>\n",
       "    </tr>\n",
       "    <tr>\n",
       "      <th>29277</th>\n",
       "      <td>Staten Island</td>\n",
       "      <td>WOODROW</td>\n",
       "      <td>01 ONE FAMILY DWELLINGS</td>\n",
       "      <td>1</td>\n",
       "      <td>7317</td>\n",
       "      <td>311</td>\n",
       "      <td>A5</td>\n",
       "      <td>203 PEMBROOK LOOP</td>\n",
       "      <td></td>\n",
       "      <td>10309</td>\n",
       "      <td>1</td>\n",
       "      <td>0</td>\n",
       "      <td>1.0</td>\n",
       "      <td>1360.0</td>\n",
       "      <td>1672.0</td>\n",
       "      <td>1992.0</td>\n",
       "      <td>1</td>\n",
       "      <td>A5</td>\n",
       "      <td>354000.0</td>\n",
       "      <td>2016-09-12</td>\n",
       "      <td>30</td>\n",
       "      <td>Post-War</td>\n",
       "    </tr>\n",
       "    <tr>\n",
       "      <th>29279</th>\n",
       "      <td>Staten Island</td>\n",
       "      <td>WOODROW</td>\n",
       "      <td>01 ONE FAMILY DWELLINGS</td>\n",
       "      <td>1</td>\n",
       "      <td>7349</td>\n",
       "      <td>58</td>\n",
       "      <td>A5</td>\n",
       "      <td>22 QUAIL LANE</td>\n",
       "      <td></td>\n",
       "      <td>10309</td>\n",
       "      <td>1</td>\n",
       "      <td>0</td>\n",
       "      <td>1.0</td>\n",
       "      <td>2000.0</td>\n",
       "      <td>2059.0</td>\n",
       "      <td>1998.0</td>\n",
       "      <td>1</td>\n",
       "      <td>A5</td>\n",
       "      <td>549000.0</td>\n",
       "      <td>2017-05-11</td>\n",
       "      <td>24</td>\n",
       "      <td>Post-War</td>\n",
       "    </tr>\n",
       "  </tbody>\n",
       "</table>\n",
       "<p>2255 rows × 22 columns</p>\n",
       "</div>"
      ],
      "text/plain": [
       "             BOROUGH            NEIGHBORHOOD  \\\n",
       "58         Manhattan               CHINATOWN   \n",
       "172        Manhattan  GREENWICH VILLAGE-WEST   \n",
       "174        Manhattan  GREENWICH VILLAGE-WEST   \n",
       "234        Manhattan          HARLEM-CENTRAL   \n",
       "258        Manhattan          HARLEM-CENTRAL   \n",
       "...              ...                     ...   \n",
       "29274  Staten Island                 WOODROW   \n",
       "29275  Staten Island                 WOODROW   \n",
       "29276  Staten Island                 WOODROW   \n",
       "29277  Staten Island                 WOODROW   \n",
       "29279  Staten Island                 WOODROW   \n",
       "\n",
       "                           BUILDING CLASS CATEGORY TAX CLASS AT PRESENT BLOCK  \\\n",
       "58     22 STORE BUILDINGS                                             4   162   \n",
       "172    01 ONE FAMILY DWELLINGS                                        1   585   \n",
       "174    01 ONE FAMILY DWELLINGS                                        1   606   \n",
       "234    02 TWO FAMILY DWELLINGS                                        1  1950   \n",
       "258    07 RENTALS - WALKUP APARTMENTS                                2A  1726   \n",
       "...                                            ...                  ...   ...   \n",
       "29274  01 ONE FAMILY DWELLINGS                                        1  7317   \n",
       "29275  01 ONE FAMILY DWELLINGS                                        1  7317   \n",
       "29276  01 ONE FAMILY DWELLINGS                                        1  7317   \n",
       "29277  01 ONE FAMILY DWELLINGS                                        1  7317   \n",
       "29279  01 ONE FAMILY DWELLINGS                                        1  7349   \n",
       "\n",
       "       LOT BUILDING CLASS AT PRESENT              ADDRESS APARTMENT NUMBER  \\\n",
       "58      47                        K4  10-14 DOYERS STREET                    \n",
       "172     69                        A5        2 GROVE COURT                    \n",
       "174     28                        S1  66 GREENWICH AVENUE                    \n",
       "234      7                        B3  357 WEST 123 STREET                    \n",
       "258     22                        C3   35 WEST 128 STREET                    \n",
       "...    ...                       ...                  ...              ...   \n",
       "29274  226                        A5     19 PEMBROOK LOOP                    \n",
       "29275  246                        A5     61 PEMBROOK LOOP                    \n",
       "29276  280                        A5    131 PEMBROOK LOOP                    \n",
       "29277  311                        A5    203 PEMBROOK LOOP                    \n",
       "29279   58                        A5        22 QUAIL LANE                    \n",
       "\n",
       "      ZIP CODE  RESIDENTIAL UNITS  COMMERCIAL UNITS  TOTAL UNITS  \\\n",
       "58       10013                  1                 3          4.0   \n",
       "172      10014                  1                 0          1.0   \n",
       "174      10011                  1                 1          2.0   \n",
       "234      10027                  2                 0          2.0   \n",
       "258      10027                  4                 0          4.0   \n",
       "...        ...                ...               ...          ...   \n",
       "29274    10309                  1                 0          1.0   \n",
       "29275    10309                  1                 0          1.0   \n",
       "29276    10309                  1                 0          1.0   \n",
       "29277    10309                  1                 0          1.0   \n",
       "29279    10309                  1                 0          1.0   \n",
       "\n",
       "       LAND SQUARE FEET  GROSS SQUARE FEET  YEAR BUILT  \\\n",
       "58                892.0             1784.0      1920.0   \n",
       "172               384.0             1152.0      1901.0   \n",
       "174               925.0             2337.0      1910.0   \n",
       "234              1598.0             2340.0      1899.0   \n",
       "258              1249.0             2058.0      1910.0   \n",
       "...                 ...                ...         ...   \n",
       "29274            1616.0             2137.0      1992.0   \n",
       "29275            1428.0             2206.0      1992.0   \n",
       "29276            1669.0             1828.0      1993.0   \n",
       "29277            1360.0             1672.0      1992.0   \n",
       "29279            2000.0             2059.0      1998.0   \n",
       "\n",
       "      TAX CLASS AT TIME OF SALE BUILDING CLASS AT TIME OF SALE  SALE PRICE  \\\n",
       "58                            4                             K4   3000000.0   \n",
       "172                           1                             A5   1375000.0   \n",
       "174                           1                             S1   4065000.0   \n",
       "234                           1                             B3   2460000.0   \n",
       "258                           2                             C3   1431326.0   \n",
       "...                         ...                            ...         ...   \n",
       "29274                         1                             A5    417500.0   \n",
       "29275                         1                             A5    470000.0   \n",
       "29276                         1                             A5    425000.0   \n",
       "29277                         1                             A5    354000.0   \n",
       "29279                         1                             A5    549000.0   \n",
       "\n",
       "       SALE DATE  BUILDING AGE BUILDING CATEGORY  \n",
       "58    2017-07-31           102           Pre-War  \n",
       "172   2016-10-07           121           Pre-War  \n",
       "174   2017-08-03           112           Pre-War  \n",
       "234   2017-05-17           123           Pre-War  \n",
       "258   2017-08-07           112           Pre-War  \n",
       "...          ...           ...               ...  \n",
       "29274 2016-11-15            30          Post-War  \n",
       "29275 2017-05-04            30          Post-War  \n",
       "29276 2017-07-10            29          Post-War  \n",
       "29277 2016-09-12            30          Post-War  \n",
       "29279 2017-05-11            24          Post-War  \n",
       "\n",
       "[2255 rows x 22 columns]"
      ]
     },
     "execution_count": 47,
     "metadata": {},
     "output_type": "execute_result"
    }
   ],
   "source": [
    "df_new.drop_duplicates()"
   ]
  },
  {
   "cell_type": "markdown",
   "id": "3154cac8",
   "metadata": {},
   "source": [
    "# Data Exploration"
   ]
  },
  {
   "cell_type": "code",
   "execution_count": 48,
   "id": "522e80d3",
   "metadata": {},
   "outputs": [],
   "source": [
    "pd.set_option('float_format', '{:,.2f}'.format)"
   ]
  },
  {
   "cell_type": "markdown",
   "id": "62217d41",
   "metadata": {},
   "source": [
    "## Question1:  Which month has the maximize likelihood of customer's buying property? Which month had the highest total amount of property sales?"
   ]
  },
  {
   "cell_type": "code",
   "execution_count": 49,
   "id": "72052b04",
   "metadata": {},
   "outputs": [
    {
     "name": "stdout",
     "output_type": "stream",
     "text": [
      "Sales Dated from 2016-09-01 00:00:00 to 2017-08-30 00:00:00\n"
     ]
    }
   ],
   "source": [
    "print('Sales Dated from {} to {}'.format(df_new['SALE DATE'].min(), df_new['SALE DATE'].max()))"
   ]
  },
  {
   "cell_type": "code",
   "execution_count": 50,
   "id": "48f8395f",
   "metadata": {},
   "outputs": [
    {
     "data": {
      "text/plain": [
       "SALE DATE\n",
       "1    156,927,708.00\n",
       "2    149,764,529.00\n",
       "3    149,176,351.00\n",
       "4    130,043,226.00\n",
       "5    187,489,189.00\n",
       "6    168,886,654.00\n",
       "7    132,618,760.00\n",
       "8    111,501,216.00\n",
       "9    137,480,119.00\n",
       "10   115,427,647.00\n",
       "11   125,432,117.00\n",
       "12   159,135,291.00\n",
       "Name: SALE PRICE, dtype: float64"
      ]
     },
     "execution_count": 50,
     "metadata": {},
     "output_type": "execute_result"
    }
   ],
   "source": [
    "df_new.groupby(df_new['SALE DATE'].dt.month).sum()['SALE PRICE']"
   ]
  },
  {
   "cell_type": "code",
   "execution_count": 51,
   "id": "2c01f4dd",
   "metadata": {},
   "outputs": [
    {
     "data": {
      "text/plain": [
       "SALE DATE\n",
       "1     212\n",
       "2     186\n",
       "3     202\n",
       "4     178\n",
       "5     218\n",
       "6     230\n",
       "7     165\n",
       "8     116\n",
       "9     204\n",
       "10    162\n",
       "11    176\n",
       "12    216\n",
       "Name: BOROUGH, dtype: int64"
      ]
     },
     "execution_count": 51,
     "metadata": {},
     "output_type": "execute_result"
    }
   ],
   "source": [
    "df_new.groupby(df_new['SALE DATE'].dt.month).count().iloc[:,0]"
   ]
  },
  {
   "cell_type": "code",
   "execution_count": 54,
   "id": "e0d67965",
   "metadata": {},
   "outputs": [
    {
     "name": "stderr",
     "output_type": "stream",
     "text": [
      "<ipython-input-54-3dd00e3f70dd>:15: UserWarning: Matplotlib is currently using module://ipykernel.pylab.backend_inline, which is a non-GUI backend, so cannot show the figure.\n",
      "  fig.show()\n"
     ]
    },
    {
     "data": {
      "image/png": "[encoded data removed]",
      "text/plain": [
       "<Figure size 720x432 with 2 Axes>"
      ]
     },
     "metadata": {},
     "output_type": "display_data"
    }
   ],
   "source": [
    "months = [x for x, df in df_new.groupby(df_new['SALE DATE'].dt.month)]\n",
    "count = df_new.groupby(df_new['SALE DATE'].dt.month).count().iloc[:,0]\n",
    "prices = df_new.groupby(df_new['SALE DATE'].dt.month).sum()['SALE PRICE']\n",
    "\n",
    "fig, ax1 = plt.subplots(figsize=(10, 6))\n",
    "\n",
    "ax2 = ax1.twinx()\n",
    "ax1.bar(months, count, color='g')\n",
    "ax2.plot(months, prices, color='b')\n",
    "\n",
    "ax1.set_xlabel('Month',fontsize=25)\n",
    "ax1.set_ylabel('Count', color='g', fontsize=25)\n",
    "ax2.set_ylabel('Price (Billion $)', color='b', fontsize=25)\n",
    "plt.grid()\n",
    "fig.show()"
   ]
  },
  {
   "cell_type": "markdown",
   "id": "71f1daca",
   "metadata": {},
   "source": [
    "## Question 2: Which Borough sold the most property?"
   ]
  },
  {
   "cell_type": "code",
   "execution_count": 60,
   "id": "e34002e2",
   "metadata": {},
   "outputs": [
    {
     "data": {
      "text/plain": [
       "Index(['Bronx', 'Brooklyn', 'Manhattan', 'Queens', 'Staten Island'], dtype='object', name='BOROUGH')"
      ]
     },
     "execution_count": 60,
     "metadata": {},
     "output_type": "execute_result"
    }
   ],
   "source": [
    "df_new.groupby(df_new['BOROUGH']).count().iloc[:,0].index"
   ]
  },
  {
   "cell_type": "code",
   "execution_count": 62,
   "id": "3c287c39",
   "metadata": {},
   "outputs": [
    {
     "data": {
      "image/png": "[encoded data removed]",
      "text/plain": [
       "<Figure size 432x288 with 1 Axes>"
      ]
     },
     "metadata": {},
     "output_type": "display_data"
    }
   ],
   "source": [
    "keys = df_new.groupby(df_new['BOROUGH']).count().iloc[:,0].index\n",
    "\n",
    "plt.bar(keys, df_new.groupby(df_new['BOROUGH']).count().iloc[:,0])\n",
    "plt.ylabel('Sales Number')\n",
    "plt.xlabel('Neighborhood')\n",
    "plt.xticks(keys, rotation='vertical', size=12)\n",
    "plt.title('Total Sales Made in Each Borought in NYC.')\n",
    "plt.show()"
   ]
  },
  {
   "cell_type": "markdown",
   "id": "0b4c514b",
   "metadata": {},
   "source": [
    "## Question 3: What type of unit sold the most? Residential Unit VS Commercial Unit"
   ]
  },
  {
   "cell_type": "code",
   "execution_count": 80,
   "id": "1c2a9983",
   "metadata": {},
   "outputs": [
    {
     "data": {
      "text/html": [
       "<div>\n",
       "<style scoped>\n",
       "    .dataframe tbody tr th:only-of-type {\n",
       "        vertical-align: middle;\n",
       "    }\n",
       "\n",
       "    .dataframe tbody tr th {\n",
       "        vertical-align: top;\n",
       "    }\n",
       "\n",
       "    .dataframe thead th {\n",
       "        text-align: right;\n",
       "    }\n",
       "</style>\n",
       "<table border=\"1\" class=\"dataframe\">\n",
       "  <thead>\n",
       "    <tr style=\"text-align: right;\">\n",
       "      <th></th>\n",
       "      <th>RESIDENTIAL UNITS</th>\n",
       "      <th>COMMERCIAL UNITS</th>\n",
       "      <th>TOTAL UNITS</th>\n",
       "      <th>LAND SQUARE FEET</th>\n",
       "      <th>GROSS SQUARE FEET</th>\n",
       "      <th>YEAR BUILT</th>\n",
       "      <th>SALE PRICE</th>\n",
       "      <th>BUILDING AGE</th>\n",
       "    </tr>\n",
       "    <tr>\n",
       "      <th>BOROUGH</th>\n",
       "      <th></th>\n",
       "      <th></th>\n",
       "      <th></th>\n",
       "      <th></th>\n",
       "      <th></th>\n",
       "      <th></th>\n",
       "      <th></th>\n",
       "      <th></th>\n",
       "    </tr>\n",
       "  </thead>\n",
       "  <tbody>\n",
       "    <tr>\n",
       "      <th>False</th>\n",
       "      <td>3604</td>\n",
       "      <td>176</td>\n",
       "      <td>3,778.00</td>\n",
       "      <td>3,174,836.00</td>\n",
       "      <td>3,864,451.00</td>\n",
       "      <td>3,963,209.00</td>\n",
       "      <td>1,631,115,916.00</td>\n",
       "      <td>165715</td>\n",
       "    </tr>\n",
       "    <tr>\n",
       "      <th>True</th>\n",
       "      <td>387</td>\n",
       "      <td>12</td>\n",
       "      <td>399.00</td>\n",
       "      <td>355,999.00</td>\n",
       "      <td>429,424.00</td>\n",
       "      <td>432,820.00</td>\n",
       "      <td>92,766,891.00</td>\n",
       "      <td>18086</td>\n",
       "    </tr>\n",
       "  </tbody>\n",
       "</table>\n",
       "</div>"
      ],
      "text/plain": [
       "         RESIDENTIAL UNITS  COMMERCIAL UNITS  TOTAL UNITS  LAND SQUARE FEET  \\\n",
       "BOROUGH                                                                       \n",
       "False                 3604               176     3,778.00      3,174,836.00   \n",
       "True                   387                12       399.00        355,999.00   \n",
       "\n",
       "         GROSS SQUARE FEET   YEAR BUILT       SALE PRICE  BUILDING AGE  \n",
       "BOROUGH                                                                 \n",
       "False         3,864,451.00 3,963,209.00 1,631,115,916.00        165715  \n",
       "True            429,424.00   432,820.00    92,766,891.00         18086  "
      ]
     },
     "execution_count": 80,
     "metadata": {},
     "output_type": "execute_result"
    }
   ],
   "source": [
    "df_new.groupby(df_new['BOROUGH']=='Bronx').sum()"
   ]
  },
  {
   "cell_type": "code",
   "execution_count": 85,
   "id": "119a892e",
   "metadata": {},
   "outputs": [
    {
     "data": {
      "text/plain": [
       "RESIDENTIAL UNITS   387.00\n",
       "COMMERCIAL UNITS     12.00\n",
       "Name: True, dtype: float64"
      ]
     },
     "execution_count": 85,
     "metadata": {},
     "output_type": "execute_result"
    }
   ],
   "source": [
    "df_new.groupby(df_new['BOROUGH']=='Bronx').sum().iloc[1,0:2]"
   ]
  },
  {
   "cell_type": "code",
   "execution_count": 87,
   "id": "eb7d7f4f",
   "metadata": {},
   "outputs": [
    {
     "data": {
      "text/html": [
       "<div>\n",
       "<style scoped>\n",
       "    .dataframe tbody tr th:only-of-type {\n",
       "        vertical-align: middle;\n",
       "    }\n",
       "\n",
       "    .dataframe tbody tr th {\n",
       "        vertical-align: top;\n",
       "    }\n",
       "\n",
       "    .dataframe thead th {\n",
       "        text-align: right;\n",
       "    }\n",
       "</style>\n",
       "<table border=\"1\" class=\"dataframe\">\n",
       "  <thead>\n",
       "    <tr style=\"text-align: right;\">\n",
       "      <th></th>\n",
       "      <th>RESIDENTIAL UNITS</th>\n",
       "      <th>COMMERCIAL UNITS</th>\n",
       "    </tr>\n",
       "  </thead>\n",
       "  <tbody>\n",
       "    <tr>\n",
       "      <th>Bronx</th>\n",
       "      <td>387.00</td>\n",
       "      <td>12.00</td>\n",
       "    </tr>\n",
       "    <tr>\n",
       "      <th>Brooklyn</th>\n",
       "      <td>2,206.00</td>\n",
       "      <td>95.00</td>\n",
       "    </tr>\n",
       "    <tr>\n",
       "      <th>Manhattan</th>\n",
       "      <td>121.00</td>\n",
       "      <td>6.00</td>\n",
       "    </tr>\n",
       "    <tr>\n",
       "      <th>Queens</th>\n",
       "      <td>832.00</td>\n",
       "      <td>63.00</td>\n",
       "    </tr>\n",
       "    <tr>\n",
       "      <th>Staten Island</th>\n",
       "      <td>445.00</td>\n",
       "      <td>12.00</td>\n",
       "    </tr>\n",
       "  </tbody>\n",
       "</table>\n",
       "</div>"
      ],
      "text/plain": [
       "               RESIDENTIAL UNITS  COMMERCIAL UNITS\n",
       "Bronx                     387.00             12.00\n",
       "Brooklyn                2,206.00             95.00\n",
       "Manhattan                 121.00              6.00\n",
       "Queens                    832.00             63.00\n",
       "Staten Island             445.00             12.00"
      ]
     },
     "execution_count": 87,
     "metadata": {},
     "output_type": "execute_result"
    }
   ],
   "source": [
    "table= pd.DataFrame(columns=['RESIDENTIAL UNITS', 'COMMERCIAL UNITS'])\n",
    "for x in keys:\n",
    "    t = pd.DataFrame(df_new.groupby(df_new['BOROUGH']==x).sum().iloc[1,0:2])\n",
    "    t.columns=[x]\n",
    "    t = t.T\n",
    "    table = table.append(t)\n",
    "table "
   ]
  },
  {
   "cell_type": "code",
   "execution_count": 91,
   "id": "c2e125be",
   "metadata": {},
   "outputs": [
    {
     "data": {
      "text/plain": [
       "Index(['Bronx', 'Brooklyn', 'Manhattan', 'Queens', 'Staten Island'], dtype='object')"
      ]
     },
     "execution_count": 91,
     "metadata": {},
     "output_type": "execute_result"
    }
   ],
   "source": [
    "table.index"
   ]
  },
  {
   "cell_type": "code",
   "execution_count": 94,
   "id": "a4838e47",
   "metadata": {},
   "outputs": [
    {
     "data": {
      "image/png": "[encoded data removed]",
      "text/plain": [
       "<Figure size 1080x720 with 1 Axes>"
      ]
     },
     "metadata": {},
     "output_type": "display_data"
    }
   ],
   "source": [
    "N=5\n",
    "\n",
    "blue_bar = table['RESIDENTIAL UNITS']\n",
    "orange_bar = table['COMMERCIAL UNITS']\n",
    "\n",
    "ind=np.arange(N)\n",
    "\n",
    "fig, ax = plt.subplots(figsize=(15,10))\n",
    "\n",
    "width = 0.3\n",
    "p1=ax.bar(ind, blue_bar, width, label='RESIDENTIAL UNITS')\n",
    "p2=ax.bar(ind+width, orange_bar, width, label='COMMERCIAL UNITS')\n",
    "\n",
    "plt.xlabel('Borough')\n",
    "plt.ylabel('Number of Units')\n",
    "plt.title('Residential and Commercial unit sales in each Borough')\n",
    "\n",
    "plt.xticks(ind + width / 2, ('Bronx', 'Brooklyn', 'Manhattan', 'Queens', 'Staten Island'), size=5)\n",
    "\n",
    "ax.bar_label(p1)\n",
    "ax.bar_label(p2)\n",
    "\n",
    "plt.grid(color='grey',linestyle='--')\n",
    "plt.legend(loc='best')\n",
    "plt.show()\n"
   ]
  },
  {
   "cell_type": "markdown",
   "id": "8770138f",
   "metadata": {},
   "source": [
    "## Which are the most expensive neighborhood in NYC?"
   ]
  },
  {
   "cell_type": "code",
   "execution_count": 170,
   "id": "93ad0ae2",
   "metadata": {},
   "outputs": [
    {
     "data": {
      "text/plain": [
       "3250000.0"
      ]
     },
     "execution_count": 170,
     "metadata": {},
     "output_type": "execute_result"
    }
   ],
   "source": [
    "np.mean(df_new['SALE PRICE'][df_new.NEIGHBORHOOD == 'MURRAY HILL'])"
   ]
  },
  {
   "cell_type": "code",
   "execution_count": 186,
   "id": "10fbdfc9",
   "metadata": {},
   "outputs": [
    {
     "data": {
      "text/html": [
       "<div>\n",
       "<style scoped>\n",
       "    .dataframe tbody tr th:only-of-type {\n",
       "        vertical-align: middle;\n",
       "    }\n",
       "\n",
       "    .dataframe tbody tr th {\n",
       "        vertical-align: top;\n",
       "    }\n",
       "\n",
       "    .dataframe thead th {\n",
       "        text-align: right;\n",
       "    }\n",
       "</style>\n",
       "<table border=\"1\" class=\"dataframe\">\n",
       "  <thead>\n",
       "    <tr style=\"text-align: right;\">\n",
       "      <th></th>\n",
       "      <th>RESIDENTIAL UNITS</th>\n",
       "      <th>COMMERCIAL UNITS</th>\n",
       "      <th>TOTAL UNITS</th>\n",
       "      <th>LAND SQUARE FEET</th>\n",
       "      <th>GROSS SQUARE FEET</th>\n",
       "      <th>YEAR BUILT</th>\n",
       "      <th>SALE PRICE</th>\n",
       "      <th>BUILDING AGE</th>\n",
       "    </tr>\n",
       "    <tr>\n",
       "      <th>NEIGHBORHOOD</th>\n",
       "      <th></th>\n",
       "      <th></th>\n",
       "      <th></th>\n",
       "      <th></th>\n",
       "      <th></th>\n",
       "      <th></th>\n",
       "      <th></th>\n",
       "      <th></th>\n",
       "    </tr>\n",
       "  </thead>\n",
       "  <tbody>\n",
       "    <tr>\n",
       "      <th>UPPER EAST SIDE (79-96)</th>\n",
       "      <td>3.00</td>\n",
       "      <td>0.00</td>\n",
       "      <td>3.00</td>\n",
       "      <td>1,193.50</td>\n",
       "      <td>1,980.00</td>\n",
       "      <td>1,904.50</td>\n",
       "      <td>4,472,500.00</td>\n",
       "      <td>117.50</td>\n",
       "    </tr>\n",
       "    <tr>\n",
       "      <th>MURRAY HILL</th>\n",
       "      <td>1.00</td>\n",
       "      <td>0.00</td>\n",
       "      <td>1.00</td>\n",
       "      <td>493.00</td>\n",
       "      <td>1,872.00</td>\n",
       "      <td>1,910.00</td>\n",
       "      <td>3,250,000.00</td>\n",
       "      <td>112.00</td>\n",
       "    </tr>\n",
       "    <tr>\n",
       "      <th>BROOKLYN HEIGHTS</th>\n",
       "      <td>1.20</td>\n",
       "      <td>0.00</td>\n",
       "      <td>1.20</td>\n",
       "      <td>1,116.40</td>\n",
       "      <td>1,877.00</td>\n",
       "      <td>1,909.20</td>\n",
       "      <td>3,215,000.00</td>\n",
       "      <td>112.80</td>\n",
       "    </tr>\n",
       "    <tr>\n",
       "      <th>COBBLE HILL</th>\n",
       "      <td>1.60</td>\n",
       "      <td>0.00</td>\n",
       "      <td>1.60</td>\n",
       "      <td>1,272.20</td>\n",
       "      <td>1,879.60</td>\n",
       "      <td>1,899.80</td>\n",
       "      <td>3,203,000.00</td>\n",
       "      <td>122.20</td>\n",
       "    </tr>\n",
       "    <tr>\n",
       "      <th>CHINATOWN</th>\n",
       "      <td>1.00</td>\n",
       "      <td>3.00</td>\n",
       "      <td>4.00</td>\n",
       "      <td>892.00</td>\n",
       "      <td>1,784.00</td>\n",
       "      <td>1,920.00</td>\n",
       "      <td>3,000,000.00</td>\n",
       "      <td>102.00</td>\n",
       "    </tr>\n",
       "    <tr>\n",
       "      <th>...</th>\n",
       "      <td>...</td>\n",
       "      <td>...</td>\n",
       "      <td>...</td>\n",
       "      <td>...</td>\n",
       "      <td>...</td>\n",
       "      <td>...</td>\n",
       "      <td>...</td>\n",
       "      <td>...</td>\n",
       "    </tr>\n",
       "    <tr>\n",
       "      <th>UPPER WEST SIDE (79-96)</th>\n",
       "      <td>NaN</td>\n",
       "      <td>NaN</td>\n",
       "      <td>NaN</td>\n",
       "      <td>NaN</td>\n",
       "      <td>NaN</td>\n",
       "      <td>NaN</td>\n",
       "      <td>NaN</td>\n",
       "      <td>NaN</td>\n",
       "    </tr>\n",
       "    <tr>\n",
       "      <th>UPPER WEST SIDE (96-116)</th>\n",
       "      <td>NaN</td>\n",
       "      <td>NaN</td>\n",
       "      <td>NaN</td>\n",
       "      <td>NaN</td>\n",
       "      <td>NaN</td>\n",
       "      <td>NaN</td>\n",
       "      <td>NaN</td>\n",
       "      <td>NaN</td>\n",
       "    </tr>\n",
       "    <tr>\n",
       "      <th>VAN CORTLANDT PARK</th>\n",
       "      <td>NaN</td>\n",
       "      <td>NaN</td>\n",
       "      <td>NaN</td>\n",
       "      <td>NaN</td>\n",
       "      <td>NaN</td>\n",
       "      <td>NaN</td>\n",
       "      <td>NaN</td>\n",
       "      <td>NaN</td>\n",
       "    </tr>\n",
       "    <tr>\n",
       "      <th>WOODLAWN</th>\n",
       "      <td>NaN</td>\n",
       "      <td>NaN</td>\n",
       "      <td>NaN</td>\n",
       "      <td>NaN</td>\n",
       "      <td>NaN</td>\n",
       "      <td>NaN</td>\n",
       "      <td>NaN</td>\n",
       "      <td>NaN</td>\n",
       "    </tr>\n",
       "    <tr>\n",
       "      <th>WYCKOFF HEIGHTS</th>\n",
       "      <td>NaN</td>\n",
       "      <td>NaN</td>\n",
       "      <td>NaN</td>\n",
       "      <td>NaN</td>\n",
       "      <td>NaN</td>\n",
       "      <td>NaN</td>\n",
       "      <td>NaN</td>\n",
       "      <td>NaN</td>\n",
       "    </tr>\n",
       "  </tbody>\n",
       "</table>\n",
       "<p>254 rows × 8 columns</p>\n",
       "</div>"
      ],
      "text/plain": [
       "                          RESIDENTIAL UNITS  COMMERCIAL UNITS  TOTAL UNITS  \\\n",
       "NEIGHBORHOOD                                                                 \n",
       "UPPER EAST SIDE (79-96)                3.00              0.00         3.00   \n",
       "MURRAY HILL                            1.00              0.00         1.00   \n",
       "BROOKLYN HEIGHTS                       1.20              0.00         1.20   \n",
       "COBBLE HILL                            1.60              0.00         1.60   \n",
       "CHINATOWN                              1.00              3.00         4.00   \n",
       "...                                     ...               ...          ...   \n",
       "UPPER WEST SIDE (79-96)                 NaN               NaN          NaN   \n",
       "UPPER WEST SIDE (96-116)                NaN               NaN          NaN   \n",
       "VAN CORTLANDT PARK                      NaN               NaN          NaN   \n",
       "WOODLAWN                                NaN               NaN          NaN   \n",
       "WYCKOFF HEIGHTS                         NaN               NaN          NaN   \n",
       "\n",
       "                          LAND SQUARE FEET  GROSS SQUARE FEET  YEAR BUILT  \\\n",
       "NEIGHBORHOOD                                                                \n",
       "UPPER EAST SIDE (79-96)           1,193.50           1,980.00    1,904.50   \n",
       "MURRAY HILL                         493.00           1,872.00    1,910.00   \n",
       "BROOKLYN HEIGHTS                  1,116.40           1,877.00    1,909.20   \n",
       "COBBLE HILL                       1,272.20           1,879.60    1,899.80   \n",
       "CHINATOWN                           892.00           1,784.00    1,920.00   \n",
       "...                                    ...                ...         ...   \n",
       "UPPER WEST SIDE (79-96)                NaN                NaN         NaN   \n",
       "UPPER WEST SIDE (96-116)               NaN                NaN         NaN   \n",
       "VAN CORTLANDT PARK                     NaN                NaN         NaN   \n",
       "WOODLAWN                               NaN                NaN         NaN   \n",
       "WYCKOFF HEIGHTS                        NaN                NaN         NaN   \n",
       "\n",
       "                           SALE PRICE  BUILDING AGE  \n",
       "NEIGHBORHOOD                                         \n",
       "UPPER EAST SIDE (79-96)  4,472,500.00        117.50  \n",
       "MURRAY HILL              3,250,000.00        112.00  \n",
       "BROOKLYN HEIGHTS         3,215,000.00        112.80  \n",
       "COBBLE HILL              3,203,000.00        122.20  \n",
       "CHINATOWN                3,000,000.00        102.00  \n",
       "...                               ...           ...  \n",
       "UPPER WEST SIDE (79-96)           NaN           NaN  \n",
       "UPPER WEST SIDE (96-116)          NaN           NaN  \n",
       "VAN CORTLANDT PARK                NaN           NaN  \n",
       "WOODLAWN                          NaN           NaN  \n",
       "WYCKOFF HEIGHTS                   NaN           NaN  \n",
       "\n",
       "[254 rows x 8 columns]"
      ]
     },
     "execution_count": 186,
     "metadata": {},
     "output_type": "execute_result"
    }
   ],
   "source": [
    "df_new.groupby(df_new['NEIGHBORHOOD']).mean().sort_values('SALE PRICE', ascending=False)"
   ]
  },
  {
   "cell_type": "code",
   "execution_count": 179,
   "id": "6c15ead1",
   "metadata": {},
   "outputs": [],
   "source": [
    "temp=pd.DataFrame(df_new.groupby(df_new['NEIGHBORHOOD']).mean()['SALE PRICE'].nlargest(n=20))"
   ]
  },
  {
   "cell_type": "code",
   "execution_count": 188,
   "id": "d2926656",
   "metadata": {},
   "outputs": [
    {
     "name": "stderr",
     "output_type": "stream",
     "text": [
      "/Users/bayarjargalbatjargal/opt/anaconda3/lib/python3.8/site-packages/seaborn/_decorators.py:36: FutureWarning: Pass the following variables as keyword args: x, y. From version 0.12, the only valid positional argument will be `data`, and passing other arguments without an explicit keyword will result in an error or misinterpretation.\n",
      "  warnings.warn(\n"
     ]
    },
    {
     "data": {
      "text/plain": [
       "Text(0.5, 1.0, 'Average Property Price in the Top 20 Neighborhoods')"
      ]
     },
     "execution_count": 188,
     "metadata": {},
     "output_type": "execute_result"
    },
    {
     "data": {
      "image/png": "[encoded data removed]",
      "text/plain": [
       "<Figure size 1080x360 with 1 Axes>"
      ]
     },
     "metadata": {},
     "output_type": "display_data"
    }
   ],
   "source": [
    "plt.figure(figsize=(15,5))\n",
    "ax = sns.barplot(x,y,data=temp, orient='h', ci=None, palette = \"Spectral\")\n",
    "ax.set_xlabel('Average Property Price')\n",
    "ax.set_ylabel('Neighborhood')\n",
    "plt.title('Average Property Price in the Top 20 Neighborhoods')"
   ]
  },
  {
   "cell_type": "markdown",
   "id": "9fb0f281",
   "metadata": {},
   "source": [
    "# Data Analysis"
   ]
  },
  {
   "cell_type": "markdown",
   "id": "a64d56bc",
   "metadata": {},
   "source": [
    "## Distribution "
   ]
  },
  {
   "cell_type": "code",
   "execution_count": 97,
   "id": "fb973a07",
   "metadata": {},
   "outputs": [
    {
     "name": "stderr",
     "output_type": "stream",
     "text": [
      "/Users/bayarjargalbatjargal/opt/anaconda3/lib/python3.8/site-packages/seaborn/distributions.py:2557: FutureWarning: `distplot` is a deprecated function and will be removed in a future version. Please adapt your code to use either `displot` (a figure-level function with similar flexibility) or `histplot` (an axes-level function for histograms).\n",
      "  warnings.warn(msg, FutureWarning)\n"
     ]
    },
    {
     "data": {
      "text/plain": [
       "<AxesSubplot:xlabel='SALE PRICE', ylabel='Density'>"
      ]
     },
     "execution_count": 97,
     "metadata": {},
     "output_type": "execute_result"
    },
    {
     "data": {
      "image/png": "[encoded data removed]",
      "text/plain": [
       "<Figure size 1440x720 with 1 Axes>"
      ]
     },
     "metadata": {},
     "output_type": "display_data"
    }
   ],
   "source": [
    "plt.figure(figsize = (20,10))\n",
    "sns.distplot(df_new['SALE PRICE'], kde = True, hist_kws=dict(edgecolor=\"k\"))"
   ]
  },
  {
   "cell_type": "markdown",
   "id": "7ba95c1f",
   "metadata": {},
   "source": [
    "Sales Price attribute has a right skewed distribution "
   ]
  },
  {
   "cell_type": "markdown",
   "id": "bb146ce2",
   "metadata": {},
   "source": [
    "## Sales Price Analysis vs numerical features"
   ]
  },
  {
   "cell_type": "code",
   "execution_count": 204,
   "id": "0f4269d2",
   "metadata": {},
   "outputs": [
    {
     "data": {
      "text/plain": [
       "Index(['BOROUGH', 'NEIGHBORHOOD', 'BUILDING CLASS CATEGORY',\n",
       "       'TAX CLASS AT PRESENT', 'BLOCK', 'LOT', 'BUILDING CLASS AT PRESENT',\n",
       "       'ADDRESS', 'APARTMENT NUMBER', 'ZIP CODE', 'RESIDENTIAL UNITS',\n",
       "       'COMMERCIAL UNITS', 'TOTAL UNITS', 'LAND SQUARE FEET',\n",
       "       'GROSS SQUARE FEET', 'YEAR BUILT', 'TAX CLASS AT TIME OF SALE',\n",
       "       'BUILDING CLASS AT TIME OF SALE', 'SALE PRICE', 'SALE DATE',\n",
       "       'BUILDING AGE', 'BUILDING CATEGORY'],\n",
       "      dtype='object')"
      ]
     },
     "execution_count": 204,
     "metadata": {},
     "output_type": "execute_result"
    }
   ],
   "source": [
    "df_new.columns"
   ]
  },
  {
   "cell_type": "code",
   "execution_count": 212,
   "id": "c1c5a6e6",
   "metadata": {},
   "outputs": [
    {
     "data": {
      "image/png": "[encoded data removed]",
      "text/plain": [
       "<Figure size 1440x576 with 2 Axes>"
      ]
     },
     "metadata": {},
     "output_type": "display_data"
    }
   ],
   "source": [
    "sns.set_style('darkgrid')\n",
    "fig, axes = plt.subplots(1,2, figsize = (20,8))\n",
    "\n",
    "sns.boxplot(x='RESIDENTIAL UNITS', y=\"SALE PRICE\", data=df_new, ax = axes[0])\n",
    "axes[0].set_title('Residential Units vs. Sale Price')\n",
    "\n",
    "sns.boxplot(x ='COMMERCIAL UNITS', y ='SALE PRICE', data = df_new, ax = axes[1])\n",
    "axes[1].set_title('Commercial Units vs. Sale Price')\n",
    "\n",
    "plt.tight_layout()\n",
    "plt.show()\n"
   ]
  },
  {
   "cell_type": "markdown",
   "id": "4f8ba383",
   "metadata": {},
   "source": [
    "## Correlation"
   ]
  },
  {
   "cell_type": "code",
   "execution_count": 213,
   "id": "0228944d",
   "metadata": {},
   "outputs": [],
   "source": [
    "corr=df_new.corr()"
   ]
  },
  {
   "cell_type": "code",
   "execution_count": 215,
   "id": "a9a53863",
   "metadata": {},
   "outputs": [
    {
     "data": {
      "text/plain": [
       "Text(0.5, 1.0, 'Variable Correlation')"
      ]
     },
     "execution_count": 215,
     "metadata": {},
     "output_type": "execute_result"
    },
    {
     "data": {
      "image/png": "[encoded data removed]",
      "text/plain": [
       "<Figure size 720x720 with 2 Axes>"
      ]
     },
     "metadata": {},
     "output_type": "display_data"
    }
   ],
   "source": [
    "f, ax = plt.subplots(figsize=(10, 10))\n",
    "sns.heatmap(corr, cmap = 'coolwarm', square=True, annot= True, annot_kws={\"size\": 9})\n",
    "plt.title('Variable Correlation')"
   ]
  }
 ],
 "metadata": {
  "kernelspec": {
   "display_name": "Python 3",
   "language": "python",
   "name": "python3"
  },
  "language_info": {
   "codemirror_mode": {
    "name": "ipython",
    "version": 3
   },
   "file_extension": ".py",
   "mimetype": "text/x-python",
   "name": "python",
   "nbconvert_exporter": "python",
   "pygments_lexer": "ipython3",
   "version": "3.8.8"
  },
  "toc": {
   "base_numbering": 1,
   "nav_menu": {},
   "number_sections": true,
   "sideBar": true,
   "skip_h1_title": false,
   "title_cell": "Table of Contents",
   "title_sidebar": "Contents",
   "toc_cell": false,
   "toc_position": {
    "height": "773.75px",
    "left": "81.9961px",
    "top": "89.4629px",
    "width": "208.984px"
   },
   "toc_section_display": true,
   "toc_window_display": false
  }
 },
 "nbformat": 4,
 "nbformat_minor": 5
}
